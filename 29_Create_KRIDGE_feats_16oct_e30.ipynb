{
 "cells": [
  {
   "cell_type": "code",
   "execution_count": 11,
   "metadata": {
    "ExecuteTime": {
     "end_time": "2020-10-17T13:44:36.909793Z",
     "start_time": "2020-10-17T13:44:36.902884Z"
    }
   },
   "outputs": [],
   "source": [
    "import ipynb\n",
    "from ipynb.fs.full.A_libs_26sep_e30 import *\n",
    "from ipynb.fs.full.B_funs_26sep_e30 import *\n",
    "\n",
    "pd.options.display.max_rows = 1000\n",
    "pd.options.display.max_columns = 1000"
   ]
  },
  {
   "cell_type": "markdown",
   "metadata": {},
   "source": [
    "### Configuration"
   ]
  },
  {
   "cell_type": "code",
   "execution_count": 12,
   "metadata": {
    "ExecuteTime": {
     "end_time": "2020-10-17T13:44:36.941180Z",
     "start_time": "2020-10-17T13:44:36.913077Z"
    }
   },
   "outputs": [
    {
     "name": "stdout",
     "output_type": "stream",
     "text": [
      "Directory  ../results/_29_Create_KRIDGE_feats_16oct_e30  already exists\n"
     ]
    }
   ],
   "source": [
    "output_dir = create_output_dir()\n",
    "seed_everything(seed=42)"
   ]
  },
  {
   "cell_type": "code",
   "execution_count": 13,
   "metadata": {
    "ExecuteTime": {
     "end_time": "2020-10-17T13:44:36.949970Z",
     "start_time": "2020-10-17T13:44:36.944726Z"
    }
   },
   "outputs": [],
   "source": [
    "#my_submission = pd.read_csv('../input/firstpison26sep/submission0.014740.csv') #LB=0.01875 PCA + removing low std\n",
    "#my_submission = pd.read_csv('../input/pison26sepv2/submission0.014731.csv') #LB=0.01874 PCA (variance=False)\n",
    "\n",
    "class CFG:\n",
    "    num_folds = 10\n",
    "    use_pca = True\n",
    "    pca_comp_genes = 30\n",
    "    pca_comp_cells = 18\n",
    "    \n",
    "    variance_enc = False\n",
    "    variance_thres = 0.50"
   ]
  },
  {
   "cell_type": "code",
   "execution_count": 14,
   "metadata": {
    "ExecuteTime": {
     "end_time": "2020-10-17T13:44:36.969427Z",
     "start_time": "2020-10-17T13:44:36.952330Z"
    }
   },
   "outputs": [],
   "source": [
    "# BEST: pca_comp_genes=30 pca_comp_cells=18 Local=0.014694 LB=0.01872\n",
    "\n",
    "# NO_PCA Local=0.014734\n",
    "# pca_comp_genes=20 Local=0.014724 \n",
    "# pca_comp_genes=30 Local=0.014721\n",
    "# pca_comp_genes=40 Local=0.014732\n",
    "# pca_comp_genes=45 Local=0.014739 \n",
    "# pca_comp_genes=50 Local=0.014731 LB=0.01874 !Comprobado\n",
    "# pca_comp_genes=60 Local=0.014753\n",
    "# pca_comp_genes=75 Local=0.014750"
   ]
  },
  {
   "cell_type": "markdown",
   "metadata": {},
   "source": [
    "### DataBases"
   ]
  },
  {
   "cell_type": "code",
   "execution_count": 15,
   "metadata": {
    "ExecuteTime": {
     "end_time": "2020-10-17T13:44:41.782182Z",
     "start_time": "2020-10-17T13:44:36.972106Z"
    }
   },
   "outputs": [],
   "source": [
    "train_features = pd.read_csv('../input/lish-moa/train_features.csv')\n",
    "train_targets_scored = pd.read_csv('../input/lish-moa/train_targets_scored.csv')\n",
    "train_targets_nonscored = pd.read_csv('../input/lish-moa/train_targets_nonscored.csv')\n",
    "\n",
    "test_features = pd.read_csv('../input/lish-moa/test_features.csv')\n",
    "sample_submission = pd.read_csv('../input/lish-moa/sample_submission.csv')"
   ]
  },
  {
   "cell_type": "code",
   "execution_count": 16,
   "metadata": {
    "ExecuteTime": {
     "end_time": "2020-10-17T13:44:42.296143Z",
     "start_time": "2020-10-17T13:44:41.784456Z"
    }
   },
   "outputs": [],
   "source": [
    "train_orig = train_features.merge(train_targets_scored, on='sig_id')\n",
    "train_noctl = train_orig[train_orig['cp_type']!='ctl_vehicle'].drop('cp_type', axis=1).reset_index(drop=True)\n",
    "train_ctl = train_orig[train_orig['cp_type']=='ctl_vehicle'].drop('cp_type', axis=1).reset_index(drop=True)\n",
    "\n",
    "test_noctl = test_features[test_features['cp_type']!='ctl_vehicle'].drop('cp_type', axis=1).reset_index(drop=True)\n",
    "test_ctl = test_features[test_features['cp_type']=='ctl_vehicle'].drop('cp_type', axis=1).reset_index(drop=True)\n",
    "\n",
    "target = train_noctl[train_targets_scored.columns]\n",
    "\n",
    "GENES = [col for col in train_features.columns if col.startswith('g-')]\n",
    "CELLS = [col for col in train_features.columns if col.startswith('c-')]\n",
    "target_cols = target.drop('sig_id', axis=1).columns.values.tolist()\n",
    "numeric_cols = GENES + CELLS"
   ]
  },
  {
   "cell_type": "code",
   "execution_count": 17,
   "metadata": {
    "ExecuteTime": {
     "end_time": "2020-10-17T13:44:44.776725Z",
     "start_time": "2020-10-17T13:44:42.297841Z"
    }
   },
   "outputs": [],
   "source": [
    "folds = train_noctl.copy()\n",
    "mskf = MultilabelStratifiedKFold(n_splits=CFG.num_folds, shuffle=True, random_state=43)\n",
    "\n",
    "for f, (t_idx, v_idx) in enumerate(mskf.split(X=train_noctl, y=target)):\n",
    "    folds.loc[v_idx, 'kfold'] = int(f)\n",
    "\n",
    "folds['kfold'] = folds['kfold'].astype(int)"
   ]
  },
  {
   "cell_type": "code",
   "execution_count": 18,
   "metadata": {
    "ExecuteTime": {
     "end_time": "2020-10-17T13:44:44.782604Z",
     "start_time": "2020-10-17T13:44:44.778723Z"
    }
   },
   "outputs": [
    {
     "name": "stdout",
     "output_type": "stream",
     "text": [
      "(23814, 1082)\n",
      "(21948, 1082)\n",
      "(3624, 875)\n",
      "(21948, 207)\n",
      "(3982, 207)\n"
     ]
    }
   ],
   "source": [
    "print(train_orig.shape)\n",
    "print(folds.shape)\n",
    "print(test_noctl.shape)\n",
    "print(target.shape)\n",
    "print(sample_submission.shape)"
   ]
  },
  {
   "cell_type": "markdown",
   "metadata": {},
   "source": [
    "### Search individual features"
   ]
  },
  {
   "cell_type": "code",
   "execution_count": 19,
   "metadata": {
    "ExecuteTime": {
     "end_time": "2020-10-17T13:44:44.806454Z",
     "start_time": "2020-10-17T13:44:44.784058Z"
    }
   },
   "outputs": [],
   "source": [
    "def trimm_correlated(df_in, threshold):\n",
    "    df_corr = df_in.corr(method='pearson', min_periods=1)\n",
    "    df_not_correlated = ~(df_corr.mask(np.tril(np.ones([len(df_corr)]*2, dtype=bool))).abs() > threshold).any()\n",
    "    un_corr_idx = df_not_correlated.loc[df_not_correlated[df_not_correlated.index] == True].index\n",
    "    return un_corr_idx"
   ]
  },
  {
   "cell_type": "code",
   "execution_count": 20,
   "metadata": {
    "ExecuteTime": {
     "end_time": "2020-10-18T07:44:08.678837Z",
     "start_time": "2020-10-17T13:44:44.808700Z"
    }
   },
   "outputs": [
    {
     "data": {
      "application/vnd.jupyter.widget-view+json": {
       "model_id": "741a655717054c8a9494c95890b747a9",
       "version_major": 2,
       "version_minor": 0
      },
      "text/plain": [
       "HBox(children=(FloatProgress(value=0.0, max=206.0), HTML(value='')))"
      ]
     },
     "metadata": {},
     "output_type": "display_data"
    },
    {
     "name": "stdout",
     "output_type": "stream",
     "text": [
      "BEST 1/206: col=5-alpha_reductase_inhibitor thr=0.05 thr2=0.93 lenfeats=215 lenfeats_uncorr=215 sum_ones=17 loss=0.004952995346922938 AUC=0.971592722630067 Mean_AUC=0.971592722630067 mlogloss=0.004564892158993303\n",
      "BEST 2/206: col=11-beta-hsd1_inhibitor thr=0.05 thr2=0.93 lenfeats=108 lenfeats_uncorr=108 sum_ones=18 loss=0.005689574020408316 AUC=0.9207681005218625 Mean_AUC=0.9461804115759648 mlogloss=0.004904323349168348\n",
      "BEST 3/206: col=acat_inhibitor thr=0.05 thr2=0.93 lenfeats=29 lenfeats_uncorr=29 sum_ones=24 loss=0.010190746828133646 AUC=0.7969538709481239 Mean_AUC=0.8964382313666844 mlogloss=0.006400291479214876\n",
      "BEST 4/206: col=acetylcholine_receptor_agonist thr=0.05 thr2=0.93 lenfeats=284 lenfeats_uncorr=284 sum_ones=190 loss=0.04698000419371844 AUC=0.714768675526485 Mean_AUC=0.8510208424066346 mlogloss=0.015624913453239728\n",
      "BEST 5/206: col=acetylcholine_receptor_antagonist thr=0.05 thr2=0.93 lenfeats=476 lenfeats_uncorr=476 sum_ones=301 loss=0.06951532761097365 AUC=0.6752703872633483 Mean_AUC=0.8158707513779774 mlogloss=0.02531359004205471\n",
      "BEST 6/206: col=acetylcholinesterase_inhibitor thr=0.05 thr2=0.93 lenfeats=102 lenfeats_uncorr=102 sum_ones=73 loss=0.02430625168140647 AUC=0.6950531506849315 Mean_AUC=0.7957344845958031 mlogloss=0.024828271732391067\n",
      "BEST 7/206: col=adenosine_receptor_agonist thr=0.05 thr2=0.93 lenfeats=160 lenfeats_uncorr=160 sum_ones=54 loss=0.017176802816280687 AUC=0.7950952231120314 Mean_AUC=0.7956431615266928 mlogloss=0.023542929407807507\n",
      "BEST 8/206: col=adenosine_receptor_antagonist thr=0.05 thr2=0.93 lenfeats=167 lenfeats_uncorr=167 sum_ones=96 loss=0.02763812846642415 AUC=0.7616088725669656 Mean_AUC=0.7913888754067269 mlogloss=0.02378412325734744\n",
      "BEST 9/206: col=adenylyl_cyclase_activator thr=0.05 thr2=0.93 lenfeats=140 lenfeats_uncorr=140 sum_ones=12 loss=0.008425196447112922 AUC=0.8096773948456113 Mean_AUC=0.7934209331221584 mlogloss=0.022004223013656822\n",
      "BEST 10/206: col=adrenergic_receptor_agonist thr=0.05 thr2=0.93 lenfeats=427 lenfeats_uncorr=427 sum_ones=270 loss=0.06345902888677224 AUC=0.7484896789030012 Mean_AUC=0.7889278077002427 mlogloss=0.025652455982329264\n",
      "BEST 11/206: col=adrenergic_receptor_antagonist thr=0.05 thr2=0.93 lenfeats=468 lenfeats_uncorr=468 sum_ones=360 loss=0.08097599379150021 AUC=0.6297397731249871 Mean_AUC=0.7744561681934014 mlogloss=0.0301050450818378\n",
      "BEST 12/206: col=akt_inhibitor thr=0.05 thr2=0.93 lenfeats=392 lenfeats_uncorr=392 sum_ones=66 loss=0.0205296182124501 AUC=0.8289240083865803 Mean_AUC=0.7789951548761663 mlogloss=0.02917303910827873\n",
      "BEST 13/206: col=aldehyde_dehydrogenase_inhibitor thr=0.05 thr2=0.93 lenfeats=302 lenfeats_uncorr=302 sum_ones=7 loss=0.0110156476564788 AUC=0.5 Mean_AUC=0.7575339891164613 mlogloss=0.02770992006854079\n",
      "BEST 14/206: col=alk_inhibitor thr=0.05 thr2=0.93 lenfeats=236 lenfeats_uncorr=236 sum_ones=42 loss=0.011268087605678842 AUC=0.9103648489433206 Mean_AUC=0.768450479104094 mlogloss=0.02647243656621086\n",
      "BEST 15/206: col=ampk_activator thr=0.05 thr2=0.93 lenfeats=53 lenfeats_uncorr=53 sum_ones=12 loss=0.008963314163008072 AUC=0.769108619012886 Mean_AUC=0.7684943550980136 mlogloss=0.025258339018163375\n",
      "BEST 16/206: col=analgesic thr=0.05 thr2=0.93 lenfeats=70 lenfeats_uncorr=70 sum_ones=12 loss=0.008925653503743728 AUC=0.7605800206661804 Mean_AUC=0.7679997091960239 mlogloss=0.024193834309067953\n",
      "BEST 17/206: col=androgen_receptor_agonist thr=0.05 thr2=0.93 lenfeats=142 lenfeats_uncorr=142 sum_ones=48 loss=0.014429480449465156 AUC=0.7712271689497717 Mean_AUC=0.7681895597697738 mlogloss=0.02355295145387333\n",
      "BEST 18/206: col=androgen_receptor_antagonist thr=0.05 thr2=0.93 lenfeats=170 lenfeats_uncorr=170 sum_ones=89 loss=0.02485126496029315 AUC=0.7300800688375086 Mean_AUC=0.7660723658290923 mlogloss=0.0235168979125997\n",
      "BEST 19/206: col=anesthetic_-_local thr=0.05 thr2=0.93 lenfeats=166 lenfeats_uncorr=166 sum_ones=80 loss=0.025248775157910235 AUC=0.7233280364002195 Mean_AUC=0.7638226642802044 mlogloss=0.023503921711681103\n",
      "BEST 20/206: col=angiogenesis_inhibitor thr=0.05 thr2=0.93 lenfeats=113 lenfeats_uncorr=113 sum_ones=36 loss=0.013993788548786428 AUC=0.7488730173218124 Mean_AUC=0.7630751819322847 mlogloss=0.02297358930097058\n",
      "BEST 21/206: col=angiotensin_receptor_antagonist thr=0.05 thr2=0.93 lenfeats=106 lenfeats_uncorr=106 sum_ones=37 loss=0.010920991155636446 AUC=0.873331548882642 Mean_AUC=0.7683254851203971 mlogloss=0.02235890657786372\n",
      "BEST 22/206: col=anti-inflammatory thr=0.05 thr2=0.93 lenfeats=298 lenfeats_uncorr=298 sum_ones=73 loss=0.02138286564581197 AUC=0.7985985127201566 Mean_AUC=0.7697015318294771 mlogloss=0.022238381855868707\n",
      "BEST 23/206: col=antiarrhythmic thr=0.05 thr2=0.93 lenfeats=70 lenfeats_uncorr=70 sum_ones=6 loss=0.009441983705553398 AUC=0.5 Mean_AUC=0.7579753782716737 mlogloss=0.021649849412135994\n",
      "BEST 24/206: col=antibiotic thr=0.05 thr2=0.93 lenfeats=101 lenfeats_uncorr=101 sum_ones=43 loss=0.012639865642976077 AUC=0.8313542092439339 Mean_AUC=0.7610328295621844 mlogloss=0.021233165698829104\n",
      "BEST 25/206: col=anticonvulsant thr=0.05 thr2=0.93 lenfeats=61 lenfeats_uncorr=61 sum_ones=12 loss=0.008940211851237011 AUC=0.770859925844882 Mean_AUC=0.7614259134134923 mlogloss=0.020713426321587205\n",
      "BEST 26/206: col=antifungal thr=0.05 thr2=0.93 lenfeats=100 lenfeats_uncorr=100 sum_ones=13 loss=0.003931951229251646 AUC=0.9856464028335467 Mean_AUC=0.7700497783911866 mlogloss=0.0200561350888239\n",
      "BEST 27/206: col=antihistamine thr=0.05 thr2=0.93 lenfeats=57 lenfeats_uncorr=57 sum_ones=12 loss=0.008841662397920677 AUC=0.7823364940432773 Mean_AUC=0.7705048419338567 mlogloss=0.01961512467369976\n",
      "BEST 28/206: col=antimalarial thr=0.05 thr2=0.93 lenfeats=60 lenfeats_uncorr=60 sum_ones=18 loss=0.00703749767766538 AUC=0.8522875816993464 Mean_AUC=0.7734256540683385 mlogloss=0.019146229456075546\n",
      "BEST 29/206: col=antioxidant thr=0.05 thr2=0.93 lenfeats=215 lenfeats_uncorr=215 sum_ones=73 loss=0.021798456803373528 AUC=0.7954335812133072 Mean_AUC=0.7741845481078201 mlogloss=0.01917878669081353\n",
      "BEST 30/206: col=antiprotozoal thr=0.05 thr2=0.93 lenfeats=105 lenfeats_uncorr=105 sum_ones=36 loss=0.01051479523024816 AUC=0.903371059997566 Mean_AUC=0.7784907651708117 mlogloss=0.018862523287575175\n",
      "BEST 31/206: col=antiviral thr=0.05 thr2=0.93 lenfeats=107 lenfeats_uncorr=107 sum_ones=23 loss=0.008288886429611779 AUC=0.8968261365326459 Mean_AUC=0.7823080352147419 mlogloss=0.01850048679208297\n",
      "BEST 32/206: col=apoptosis_stimulant thr=0.05 thr2=0.93 lenfeats=80 lenfeats_uncorr=80 sum_ones=49 loss=0.014796470371418657 AUC=0.7677211987128291 Mean_AUC=0.7818521965740571 mlogloss=0.018348504684978475\n",
      "BEST 33/206: col=aromatase_inhibitor thr=0.05 thr2=0.93 lenfeats=110 lenfeats_uncorr=110 sum_ones=47 loss=0.015180004859893244 AUC=0.7940305844384837 Mean_AUC=0.7822212386305549 mlogloss=0.018216445183560748\n",
      "BEST 34/206: col=atm_kinase_inhibitor thr=0.05 thr2=0.93 lenfeats=105 lenfeats_uncorr=105 sum_ones=6 loss=0.009441983705553401 AUC=0.5 Mean_AUC=0.7739206139649504 mlogloss=0.017936612550221203\n",
      "BEST 35/206: col=atp-sensitive_potassium_channel_antagonist thr=0.05 thr2=0.93 lenfeats=19 lenfeats_uncorr=19 sum_ones=1 loss=0.0015736639509263987 AUC=0.5 Mean_AUC=0.766094310708809 mlogloss=0.017465576647119747\n",
      "BEST 36/206: col=atp_synthase_inhibitor thr=0.05 thr2=0.93 lenfeats=420 lenfeats_uncorr=420 sum_ones=12 loss=0.008292015866744648 AUC=0.8242994772672014 Mean_AUC=0.7677111208909865 mlogloss=0.017192707188874834\n",
      "BEST 37/206: col=atpase_inhibitor thr=0.05 thr2=0.93 lenfeats=535 lenfeats_uncorr=535 sum_ones=97 loss=0.026686866963224046 AUC=0.7525787349844094 Mean_AUC=0.767302137488106 mlogloss=0.01739278961496643\n",
      "BEST 38/206: col=atr_kinase_inhibitor thr=0.05 thr2=0.93 lenfeats=323 lenfeats_uncorr=323 sum_ones=19 loss=0.004972645545538297 AUC=0.9874763291099745 Mean_AUC=0.7730961951623657 mlogloss=0.017055689957249237\n",
      "BEST 39/206: col=aurora_kinase_inhibitor thr=0.05 thr2=0.93 lenfeats=578 lenfeats_uncorr=578 sum_ones=96 loss=0.02033607519830769 AUC=0.9530782842150223 Mean_AUC=0.7777111205226902 mlogloss=0.017098943955447376\n",
      "BEST 40/206: col=autotaxin_inhibitor thr=0.05 thr2=0.93 lenfeats=44 lenfeats_uncorr=44 sum_ones=6 loss=0.0094419837055534 AUC=0.5 Mean_AUC=0.770768342509623 mlogloss=0.0168890237478116\n"
     ]
    },
    {
     "name": "stdout",
     "output_type": "stream",
     "text": [
      "BEST 41/206: col=bacterial_30s_ribosomal_subunit_inhibitor thr=0.05 thr2=0.93 lenfeats=102 lenfeats_uncorr=102 sum_ones=60 loss=0.01846382794701785 AUC=0.7930662158869395 Mean_AUC=0.7713121930798014 mlogloss=0.016892146408032747\n",
      "BEST 42/206: col=bacterial_50s_ribosomal_subunit_inhibitor thr=0.05 thr2=0.93 lenfeats=140 lenfeats_uncorr=140 sum_ones=80 loss=0.023073621559943084 AUC=0.8091657901957198 Mean_AUC=0.7722134692016089 mlogloss=0.016996277102898853\n",
      "BEST 43/206: col=bacterial_antifolate thr=0.05 thr2=0.93 lenfeats=151 lenfeats_uncorr=151 sum_ones=36 loss=0.010732654778522683 AUC=0.8781045900774817 Mean_AUC=0.7746760534080247 mlogloss=0.016831053757779005\n",
      "BEST 44/206: col=bacterial_cell_wall_synthesis_inhibitor thr=0.05 thr2=0.93 lenfeats=340 lenfeats_uncorr=340 sum_ones=192 loss=0.04758585301832906 AUC=0.7107184512318441 Mean_AUC=0.7732224715403841 mlogloss=0.017445283343754538\n",
      "BEST 45/206: col=bacterial_dna_gyrase_inhibitor thr=0.05 thr2=0.93 lenfeats=205 lenfeats_uncorr=205 sum_ones=89 loss=0.025878605728167466 AUC=0.7613386304769434 Mean_AUC=0.7729583861834187 mlogloss=0.017587628799717557\n",
      "BEST 46/206: col=bacterial_dna_inhibitor thr=0.05 thr2=0.93 lenfeats=265 lenfeats_uncorr=265 sum_ones=115 loss=0.030079604080894166 AUC=0.7918551693786231 Mean_AUC=0.7733691858180971 mlogloss=0.01780795531401769\n",
      "BEST 47/206: col=bacterial_membrane_integrity_inhibitor thr=0.05 thr2=0.93 lenfeats=414 lenfeats_uncorr=414 sum_ones=7 loss=0.0110156476564788 AUC=0.5 Mean_AUC=0.7675528201623929 mlogloss=0.01764507310715956\n",
      "BEST 48/206: col=bcl_inhibitor thr=0.05 thr2=0.93 lenfeats=183 lenfeats_uncorr=183 sum_ones=31 loss=0.009282053039391858 AUC=0.8551470577413026 Mean_AUC=0.7693777001119536 mlogloss=0.017455691098969942\n",
      "BEST 49/206: col=bcr-abl_inhibitor thr=0.05 thr2=0.93 lenfeats=345 lenfeats_uncorr=345 sum_ones=38 loss=0.012122208530964906 AUC=0.840822503543203 Mean_AUC=0.7708357573248362 mlogloss=0.017327459553649106\n",
      "BEST 50/206: col=benzodiazepine_receptor_agonist thr=0.05 thr2=0.93 lenfeats=171 lenfeats_uncorr=171 sum_ones=67 loss=0.02031724712435797 AUC=0.7985262208676921 Mean_AUC=0.7713895665956934 mlogloss=0.0173554152251657\n",
      "BEST 51/206: col=beta_amyloid_inhibitor thr=0.05 thr2=0.93 lenfeats=56 lenfeats_uncorr=56 sum_ones=24 loss=0.007703500381776554 AUC=0.8258149364471203 Mean_AUC=0.7724567307104272 mlogloss=0.017154326203719376\n",
      "BEST 52/206: col=bromodomain_inhibitor thr=0.05 thr2=0.93 lenfeats=547 lenfeats_uncorr=547 sum_ones=68 loss=0.01592471761560723 AUC=0.9281992687385741 Mean_AUC=0.7754517795186608 mlogloss=0.0171066833966537\n",
      "BEST 53/206: col=btk_inhibitor thr=0.05 thr2=0.93 lenfeats=107 lenfeats_uncorr=107 sum_ones=29 loss=0.009282943867755413 AUC=0.9237553311486963 Mean_AUC=0.7782499597380955 mlogloss=0.016945341403123326\n",
      "BEST 54/206: col=calcineurin_inhibitor thr=0.05 thr2=0.93 lenfeats=59 lenfeats_uncorr=59 sum_ones=6 loss=0.0094419837055534 AUC=0.5 Mean_AUC=0.7730971827059085 mlogloss=0.016792689444732455\n",
      "BEST 55/206: col=calcium_channel_blocker thr=0.05 thr2=0.93 lenfeats=271 lenfeats_uncorr=271 sum_ones=281 loss=0.06598275863497013 AUC=0.6807962056537755 Mean_AUC=0.7714189831231425 mlogloss=0.017593050179887076\n",
      "BEST 56/206: col=cannabinoid_receptor_agonist thr=0.05 thr2=0.93 lenfeats=104 lenfeats_uncorr=104 sum_ones=42 loss=0.013751017488399428 AUC=0.8187178550777565 Mean_AUC=0.7722636058366177 mlogloss=0.01750520152157351\n",
      "BEST 57/206: col=cannabinoid_receptor_antagonist thr=0.05 thr2=0.93 lenfeats=96 lenfeats_uncorr=96 sum_ones=55 loss=0.015686732800734498 AUC=0.8547157040648111 Mean_AUC=0.7737101338757087 mlogloss=0.01745173418367834\n",
      "BEST 58/206: col=carbonic_anhydrase_inhibitor thr=0.05 thr2=0.93 lenfeats=75 lenfeats_uncorr=75 sum_ones=36 loss=0.012683718677878687 AUC=0.7687695225345829 Mean_AUC=0.7736249509215514 mlogloss=0.017352391475746444\n",
      "BEST 59/206: col=casein_kinase_inhibitor thr=0.05 thr2=0.93 lenfeats=118 lenfeats_uncorr=118 sum_ones=36 loss=0.010887884833542342 AUC=0.832205082958095 Mean_AUC=0.7746178345153911 mlogloss=0.017228363483184857\n",
      "BEST 60/206: col=caspase_activator thr=0.05 thr2=0.93 lenfeats=75 lenfeats_uncorr=75 sum_ones=18 loss=0.005469972097346553 AUC=0.9639332218675584 Mean_AUC=0.7777730909712606 mlogloss=0.01702524675885183\n",
      "BEST 61/206: col=catechol_o_methyltransferase_inhibitor thr=0.05 thr2=0.93 lenfeats=37 lenfeats_uncorr=37 sum_ones=12 loss=0.008885319050194958 AUC=0.7755364089472405 Mean_AUC=0.7777364240528339 mlogloss=0.01688039172537406\n",
      "BEST 62/206: col=cc_chemokine_receptor_antagonist thr=0.05 thr2=0.93 lenfeats=119 lenfeats_uncorr=119 sum_ones=102 loss=0.028753463905825328 AUC=0.6763148635816131 Mean_AUC=0.7761005924323305 mlogloss=0.017035553487943247\n",
      "BEST 63/206: col=cck_receptor_antagonist thr=0.05 thr2=0.93 lenfeats=106 lenfeats_uncorr=106 sum_ones=18 loss=0.00567584144034671 AUC=0.9179105233824796 Mean_AUC=0.7783515437172536 mlogloss=0.016848181178717947\n",
      "BEST 64/206: col=cdk_inhibitor thr=0.05 thr2=0.93 lenfeats=837 lenfeats_uncorr=837 sum_ones=340 loss=0.05142832770687624 AUC=0.9217585534769258 Mean_AUC=0.7805922782447484 mlogloss=0.017325530604161313\n",
      "BEST 65/206: col=chelating_agent thr=0.05 thr2=0.93 lenfeats=97 lenfeats_uncorr=97 sum_ones=54 loss=0.018346274887176255 AUC=0.7746279210607337 Mean_AUC=0.7805005189034558 mlogloss=0.017319117993231898\n",
      "BEST 66/206: col=chk_inhibitor thr=0.05 thr2=0.93 lenfeats=531 lenfeats_uncorr=531 sum_ones=24 loss=0.005726419300966339 AUC=0.9930897646414887 Mean_AUC=0.7837215680813049 mlogloss=0.017136672458854862\n",
      "BEST 67/206: col=chloride_channel_blocker thr=0.05 thr2=0.93 lenfeats=144 lenfeats_uncorr=144 sum_ones=42 loss=0.016228735269924945 AUC=0.8147822079621586 Mean_AUC=0.7841851597213176 mlogloss=0.017104141465402588\n",
      "BEST 68/206: col=cholesterol_inhibitor thr=0.05 thr2=0.93 lenfeats=115 lenfeats_uncorr=115 sum_ones=48 loss=0.01706967912901571 AUC=0.7509179984779301 Mean_AUC=0.7836959367618561 mlogloss=0.017083965056979056\n",
      "BEST 69/206: col=cholinergic_receptor_antagonist thr=0.05 thr2=0.93 lenfeats=113 lenfeats_uncorr=113 sum_ones=54 loss=0.016235166779091842 AUC=0.7429830259600972 Mean_AUC=0.7831058945763234 mlogloss=0.017053226772837715\n",
      "BEST 70/206: col=coagulation_factor_inhibitor thr=0.05 thr2=0.93 lenfeats=45 lenfeats_uncorr=45 sum_ones=6 loss=0.0094419837055534 AUC=0.5 Mean_AUC=0.7790615246538045 mlogloss=0.016933925471083126\n",
      "BEST 71/206: col=corticosteroid_agonist thr=0.05 thr2=0.93 lenfeats=316 lenfeats_uncorr=316 sum_ones=36 loss=0.008630610934048797 AUC=0.9446460082755264 Mean_AUC=0.7813937004794625 mlogloss=0.016807452433925514\n",
      "BEST 72/206: col=cyclooxygenase_inhibitor thr=0.05 thr2=0.93 lenfeats=540 lenfeats_uncorr=540 sum_ones=435 loss=0.09350592305198864 AUC=0.6802575935106867 Mean_AUC=0.7799890323271182 mlogloss=0.017770946904313814\n",
      "BEST 73/206: col=cytochrome_p450_inhibitor thr=0.05 thr2=0.93 lenfeats=173 lenfeats_uncorr=173 sum_ones=104 loss=0.030837271891081233 AUC=0.7452090346935614 Mean_AUC=0.7795125940033709 mlogloss=0.017916837323260493\n",
      "BEST 74/206: col=dihydrofolate_reductase_inhibitor thr=0.05 thr2=0.93 lenfeats=277 lenfeats_uncorr=277 sum_ones=36 loss=0.012461379678744678 AUC=0.8373785546225305 Mean_AUC=0.7802945664441704 mlogloss=0.017829919791881588\n",
      "BEST 75/206: col=dipeptidyl_peptidase_inhibitor thr=0.05 thr2=0.93 lenfeats=87 lenfeats_uncorr=87 sum_ones=25 loss=0.0075277178317796406 AUC=0.9167869360945127 Mean_AUC=0.7821144647061749 mlogloss=0.017684692413615602\n",
      "BEST 76/206: col=diuretic thr=0.05 thr2=0.93 lenfeats=58 lenfeats_uncorr=58 sum_ones=6 loss=0.0094419837055534 AUC=0.5 Mean_AUC=0.7784024322758305 mlogloss=0.017566500877252453\n",
      "BEST 77/206: col=dna_alkylating_agent thr=0.05 thr2=0.93 lenfeats=128 lenfeats_uncorr=128 sum_ones=48 loss=0.015403650160516851 AUC=0.824443493150685 Mean_AUC=0.779000368131348 mlogloss=0.017522736738637135\n",
      "BEST 78/206: col=dna_inhibitor thr=0.05 thr2=0.93 lenfeats=241 lenfeats_uncorr=241 sum_ones=402 loss=0.08870857619227866 AUC=0.7036475932783867 Mean_AUC=0.7780343069152844 mlogloss=0.018346260811728285\n",
      "BEST 79/206: col=dopamine_receptor_agonist thr=0.05 thr2=0.93 lenfeats=174 lenfeats_uncorr=174 sum_ones=121 loss=0.03285577403499817 AUC=0.681312136344894 Mean_AUC=0.7768099756422415 mlogloss=0.018497337071278642\n"
     ]
    },
    {
     "name": "stdout",
     "output_type": "stream",
     "text": [
      "BEST 80/206: col=dopamine_receptor_antagonist thr=0.05 thr2=0.93 lenfeats=539 lenfeats_uncorr=539 sum_ones=424 loss=0.09033546149601805 AUC=0.7025312682990117 Mean_AUC=0.7758814918004513 mlogloss=0.01930683312606741\n",
      "BEST 81/206: col=egfr_inhibitor thr=0.05 thr2=0.93 lenfeats=658 lenfeats_uncorr=658 sum_ones=336 loss=0.05288308972250019 AUC=0.9510703654495299 Mean_AUC=0.7780443174010572 mlogloss=0.01967019710283658\n",
      "BEST 82/206: col=elastase_inhibitor thr=0.05 thr2=0.93 lenfeats=91 lenfeats_uncorr=91 sum_ones=6 loss=0.009441983705553398 AUC=0.5 Mean_AUC=0.7746535330425077 mlogloss=0.019536440255850968\n",
      "BEST 83/206: col=erbb2_inhibitor thr=0.05 thr2=0.93 lenfeats=11 lenfeats_uncorr=11 sum_ones=1 loss=0.0015736639509263994 AUC=0.5 Mean_AUC=0.7713444543311521 mlogloss=0.019318535625559637\n",
      "BEST 84/206: col=estrogen_receptor_agonist thr=0.05 thr2=0.93 lenfeats=263 lenfeats_uncorr=263 sum_ones=158 loss=0.04014115911724882 AUC=0.7308151457235639 Mean_AUC=0.7708619625620142 mlogloss=0.019528979338600733\n",
      "BEST 85/206: col=estrogen_receptor_antagonist thr=0.05 thr2=0.93 lenfeats=75 lenfeats_uncorr=75 sum_ones=48 loss=0.013820158184968501 AUC=0.8535920852359209 Mean_AUC=0.7718352581228837 mlogloss=0.01944907662090835\n",
      "BEST 86/206: col=faah_inhibitor thr=0.05 thr2=0.93 lenfeats=268 lenfeats_uncorr=268 sum_ones=36 loss=0.010536392897967387 AUC=0.8634069104701635 Mean_AUC=0.7729000447780845 mlogloss=0.019335840729120188\n",
      "BEST 87/206: col=farnesyltransferase_inhibitor thr=0.05 thr2=0.93 lenfeats=356 lenfeats_uncorr=356 sum_ones=18 loss=0.004531101941536129 AUC=0.9992552059583524 Mean_AUC=0.7755018282399266 mlogloss=0.019161590343366983\n",
      "BEST 88/206: col=fatty_acid_receptor_agonist thr=0.05 thr2=0.93 lenfeats=90 lenfeats_uncorr=90 sum_ones=25 loss=0.008688288936317304 AUC=0.9058486521005336 Mean_AUC=0.7769830421474336 mlogloss=0.019034839297924537\n",
      "BEST 89/206: col=fgfr_inhibitor thr=0.05 thr2=0.93 lenfeats=234 lenfeats_uncorr=234 sum_ones=50 loss=0.015403007975077335 AUC=0.9084902730843 Mean_AUC=0.778460651483803 mlogloss=0.018980471107367298\n",
      "BEST 90/206: col=flt3_inhibitor thr=0.05 thr2=0.93 lenfeats=621 lenfeats_uncorr=621 sum_ones=279 loss=0.05850751702228085 AUC=0.8752357686541947 Mean_AUC=0.7795359305634739 mlogloss=0.01936872173708753\n",
      "BEST 91/206: col=focal_adhesion_kinase_inhibitor thr=0.05 thr2=0.93 lenfeats=307 lenfeats_uncorr=307 sum_ones=18 loss=0.004423265826771941 AUC=0.998548411612707 Mean_AUC=0.7819426611244544 mlogloss=0.019200677221265266\n",
      "BEST 92/206: col=free_radical_scavenger thr=0.05 thr2=0.93 lenfeats=59 lenfeats_uncorr=59 sum_ones=18 loss=0.005509618391466715 AUC=0.9565207478340173 Mean_AUC=0.7838402490234715 mlogloss=0.019047168770403654\n",
      "BEST 93/206: col=fungal_squalene_epoxidase_inhibitor thr=0.05 thr2=0.93 lenfeats=75 lenfeats_uncorr=75 sum_ones=23 loss=0.00680803783574478 AUC=0.9414069704030539 Mean_AUC=0.7855345148447573 mlogloss=0.018909829090988785\n",
      "BEST 94/206: col=gaba_receptor_agonist thr=0.05 thr2=0.93 lenfeats=104 lenfeats_uncorr=104 sum_ones=106 loss=0.03017295067649376 AUC=0.7394702606886853 Mean_AUC=0.7850444695877778 mlogloss=0.019004497724795684\n",
      "BEST 95/206: col=gaba_receptor_antagonist thr=0.05 thr2=0.93 lenfeats=242 lenfeats_uncorr=242 sum_ones=165 loss=0.04246506176742144 AUC=0.6718127424917122 Mean_AUC=0.7838525566709771 mlogloss=0.01921642528039238\n",
      "BEST 96/206: col=gamma_secretase_inhibitor thr=0.05 thr2=0.93 lenfeats=202 lenfeats_uncorr=202 sum_ones=56 loss=0.013647716755692362 AUC=0.922199237816815 Mean_AUC=0.7852936679329131 mlogloss=0.01914727833939771\n",
      "BEST 97/206: col=glucocorticoid_receptor_agonist thr=0.05 thr2=0.93 lenfeats=647 lenfeats_uncorr=647 sum_ones=266 loss=0.0324093089770808 AUC=0.9821240445454564 Mean_AUC=0.7873228470732486 mlogloss=0.01925781984147461\n",
      "BEST 98/206: col=glutamate_inhibitor thr=0.05 thr2=0.93 lenfeats=92 lenfeats_uncorr=92 sum_ones=13 loss=0.0041926311349583375 AUC=0.9346776314635901 Mean_AUC=0.7888264673221296 mlogloss=0.019100741149316678\n",
      "BEST 99/206: col=glutamate_receptor_agonist thr=0.05 thr2=0.93 lenfeats=187 lenfeats_uncorr=187 sum_ones=74 loss=0.021338755265933918 AUC=0.724757147199316 Mean_AUC=0.7881793024724042 mlogloss=0.019106457993091155\n",
      "BEST 100/206: col=glutamate_receptor_antagonist thr=0.05 thr2=0.93 lenfeats=491 lenfeats_uncorr=491 sum_ones=367 loss=0.08190185014364368 AUC=0.6279216492153571 Mean_AUC=0.7865767259398336 mlogloss=0.019670235861700046\n",
      "BEST 101/206: col=gonadotropin_receptor_agonist thr=0.05 thr2=0.93 lenfeats=104 lenfeats_uncorr=104 sum_ones=18 loss=0.0056150009497119464 AUC=0.9190961138977555 Mean_AUC=0.7878887990879319 mlogloss=0.019526718920601982\n",
      "BEST 102/206: col=gsk_inhibitor thr=0.05 thr2=0.93 lenfeats=391 lenfeats_uncorr=391 sum_ones=60 loss=0.015176862385103762 AUC=0.9322216130604288 Mean_AUC=0.7893038266758975 mlogloss=0.019472414273332805\n",
      "BEST 103/206: col=hcv_inhibitor thr=0.05 thr2=0.93 lenfeats=124 lenfeats_uncorr=124 sum_ones=72 loss=0.02213021374986152 AUC=0.7380818146725991 Mean_AUC=0.7888065255884869 mlogloss=0.019481382587589007\n",
      "BEST 104/206: col=hdac_inhibitor thr=0.05 thr2=0.93 lenfeats=755 lenfeats_uncorr=755 sum_ones=106 loss=0.02510406449799171 AUC=0.9268965106174187 Mean_AUC=0.7901343139060728 mlogloss=0.019516532548932482\n",
      "BEST 105/206: col=histamine_receptor_agonist thr=0.05 thr2=0.93 lenfeats=138 lenfeats_uncorr=138 sum_ones=59 loss=0.01839254073167819 AUC=0.783435066448514 Mean_AUC=0.7900705115493342 mlogloss=0.01949210225297156\n",
      "BEST 106/206: col=histamine_receptor_antagonist thr=0.05 thr2=0.93 lenfeats=381 lenfeats_uncorr=381 sum_ones=241 loss=0.058363389384886825 AUC=0.649733426336075 Mean_AUC=0.7887465767831713 mlogloss=0.019815669152404125\n",
      "BEST 107/206: col=histone_lysine_demethylase_inhibitor thr=0.05 thr2=0.93 lenfeats=163 lenfeats_uncorr=163 sum_ones=24 loss=0.00754415110567534 AUC=0.9311732196071276 Mean_AUC=0.7900776669030214 mlogloss=0.019695457403590702\n",
      "BEST 108/206: col=histone_lysine_methyltransferase_inhibitor thr=0.05 thr2=0.93 lenfeats=170 lenfeats_uncorr=170 sum_ones=32 loss=0.008639973956129478 AUC=0.9716602596276693 Mean_AUC=0.7917589872060274 mlogloss=0.019586823253503152\n",
      "BEST 109/206: col=hiv_inhibitor thr=0.05 thr2=0.93 lenfeats=179 lenfeats_uncorr=179 sum_ones=72 loss=0.020918323874262453 AUC=0.8423589524796328 Mean_AUC=0.7922232070709229 mlogloss=0.019584001215827908\n",
      "BEST 110/206: col=hmgcr_inhibitor thr=0.05 thr2=0.93 lenfeats=675 lenfeats_uncorr=675 sum_ones=283 loss=0.05107914080186015 AUC=0.9564098026567416 Mean_AUC=0.7937158124853393 mlogloss=0.019833935012359173\n",
      "BEST 111/206: col=hsp_inhibitor thr=0.05 thr2=0.93 lenfeats=816 lenfeats_uncorr=816 sum_ones=93 loss=0.020308204215353957 AUC=0.9365362617250057 Mean_AUC=0.7950024831992102 mlogloss=0.019823871713131856\n",
      "BEST 112/206: col=igf-1_inhibitor thr=0.05 thr2=0.93 lenfeats=211 lenfeats_uncorr=211 sum_ones=37 loss=0.010147301383404764 AUC=0.9309479256994204 Mean_AUC=0.796216281792962 mlogloss=0.01973037452427328\n",
      "BEST 113/206: col=ikk_inhibitor thr=0.05 thr2=0.93 lenfeats=144 lenfeats_uncorr=144 sum_ones=30 loss=0.008565320428759831 AUC=0.8711424400036499 Mean_AUC=0.7968793451399593 mlogloss=0.01962562931001669\n",
      "BEST 114/206: col=imidazoline_receptor_agonist thr=0.05 thr2=0.93 lenfeats=117 lenfeats_uncorr=117 sum_ones=31 loss=0.009612916590537169 AUC=0.8253351721376985 Mean_AUC=0.7971289576574834 mlogloss=0.019531191111691798\n",
      "BEST 115/206: col=immunosuppressant thr=0.05 thr2=0.93 lenfeats=166 lenfeats_uncorr=166 sum_ones=73 loss=0.022301492451000285 AUC=0.8597016046966731 Mean_AUC=0.7976730676317371 mlogloss=0.01954008517516952\n",
      "BEST 116/206: col=insulin_secretagogue thr=0.05 thr2=0.93 lenfeats=88 lenfeats_uncorr=88 sum_ones=30 loss=0.010583356675252752 AUC=0.8413875961918666 Mean_AUC=0.7980499170158761 mlogloss=0.019455723007720555\n",
      "BEST 117/206: col=insulin_sensitizer thr=0.05 thr2=0.93 lenfeats=171 lenfeats_uncorr=171 sum_ones=51 loss=0.013466107230051825 AUC=0.8911660385029018 Mean_AUC=0.79884578130209 mlogloss=0.01939551118582283\n",
      "BEST 118/206: col=integrin_inhibitor thr=0.05 thr2=0.93 lenfeats=64 lenfeats_uncorr=64 sum_ones=42 loss=0.014125274681390463 AUC=0.7669349123745179 Mean_AUC=0.7985753502094836 mlogloss=0.01934146835150089\n",
      "BEST 119/206: col=jak_inhibitor thr=0.05 thr2=0.93 lenfeats=396 lenfeats_uncorr=396 sum_ones=92 loss=0.02246182715645512 AUC=0.911447557928576 Mean_AUC=0.7995238561567029 mlogloss=0.019352899539534212\n"
     ]
    },
    {
     "name": "stdout",
     "output_type": "stream",
     "text": [
      "BEST 120/206: col=kit_inhibitor thr=0.05 thr2=0.93 lenfeats=601 lenfeats_uncorr=601 sum_ones=273 loss=0.05977826780778955 AUC=0.8783369033888067 Mean_AUC=0.8001806315503036 mlogloss=0.019650743760094562\n",
      "BEST 121/206: col=laxative thr=0.05 thr2=0.93 lenfeats=53 lenfeats_uncorr=53 sum_ones=6 loss=0.009441983705553398 AUC=0.5 Mean_AUC=0.7976997998845987 mlogloss=0.01956025939554846\n",
      "BEST 122/206: col=leukotriene_inhibitor thr=0.05 thr2=0.93 lenfeats=42 lenfeats_uncorr=42 sum_ones=6 loss=0.009441983705553398 AUC=0.5 Mean_AUC=0.7952596375904626 mlogloss=0.019471258381240815\n",
      "BEST 123/206: col=leukotriene_receptor_antagonist thr=0.05 thr2=0.93 lenfeats=116 lenfeats_uncorr=116 sum_ones=62 loss=0.017689129769314214 AUC=0.829824928588905 Mean_AUC=0.7955406562164662 mlogloss=0.019445500653527882\n",
      "BEST 124/206: col=lipase_inhibitor thr=0.05 thr2=0.93 lenfeats=55 lenfeats_uncorr=55 sum_ones=12 loss=0.00919321399887328 AUC=0.7135758570386579 Mean_AUC=0.794879649771484 mlogloss=0.019357011606790722\n",
      "BEST 125/206: col=lipoxygenase_inhibitor thr=0.05 thr2=0.93 lenfeats=83 lenfeats_uncorr=83 sum_ones=61 loss=0.01884220978753489 AUC=0.7803764042881955 Mean_AUC=0.7947636238076176 mlogloss=0.01934108179945477\n",
      "BEST 126/206: col=lxr_agonist thr=0.05 thr2=0.93 lenfeats=69 lenfeats_uncorr=69 sum_ones=6 loss=0.0094419837055534 AUC=0.5 Mean_AUC=0.7924242299678746 mlogloss=0.01925664571890367\n",
      "BEST 127/206: col=mdm_inhibitor thr=0.05 thr2=0.93 lenfeats=249 lenfeats_uncorr=249 sum_ones=31 loss=0.007572166697273473 AUC=0.9726755045060028 Mean_AUC=0.7938435313421905 mlogloss=0.01915997002344556\n",
      "BEST 128/206: col=mek_inhibitor thr=0.05 thr2=0.93 lenfeats=678 lenfeats_uncorr=678 sum_ones=72 loss=0.01768838205384769 AUC=0.9084372016009428 Mean_AUC=0.7947387943910871 mlogloss=0.019137645013465713\n",
      "BEST 129/206: col=membrane_integrity_inhibitor thr=0.05 thr2=0.93 lenfeats=158 lenfeats_uncorr=158 sum_ones=74 loss=0.02081636628770128 AUC=0.7745453691782667 Mean_AUC=0.7945822562111428 mlogloss=0.01913801406513156\n",
      "BEST 130/206: col=mineralocorticoid_receptor_antagonist thr=0.05 thr2=0.93 lenfeats=107 lenfeats_uncorr=107 sum_ones=25 loss=0.007666278519557111 AUC=0.9013328467819185 Mean_AUC=0.7954034146001487 mlogloss=0.019045149109804767\n",
      "BEST 131/206: col=monoacylglycerol_lipase_inhibitor thr=0.05 thr2=0.93 lenfeats=45 lenfeats_uncorr=45 sum_ones=12 loss=0.00899353874851452 AUC=0.7593035801118405 Mean_AUC=0.7951278433445129 mlogloss=0.01896303980068437\n",
      "BEST 132/206: col=monoamine_oxidase_inhibitor thr=0.05 thr2=0.93 lenfeats=171 lenfeats_uncorr=171 sum_ones=85 loss=0.02385306959536236 AUC=0.7514672923095965 Mean_AUC=0.7947970815942484 mlogloss=0.018985925924986574\n",
      "BEST 133/206: col=monopolar_spindle_1_kinase_inhibitor thr=0.05 thr2=0.93 lenfeats=198 lenfeats_uncorr=198 sum_ones=18 loss=0.005118276296054098 AUC=0.9810533515731874 Mean_AUC=0.7961975046767967 mlogloss=0.0188786424379142\n",
      "BEST 134/206: col=mtor_inhibitor thr=0.05 thr2=0.93 lenfeats=806 lenfeats_uncorr=806 sum_ones=130 loss=0.02670453939354705 AUC=0.9233515728015682 Mean_AUC=0.7971464156329517 mlogloss=0.018921429021371654\n",
      "BEST 135/206: col=mucolytic_agent thr=0.05 thr2=0.93 lenfeats=152 lenfeats_uncorr=152 sum_ones=48 loss=0.014590172831032928 AUC=0.7621052130898021 Mean_AUC=0.7968868511696692 mlogloss=0.018880877152592495\n",
      "BEST 136/206: col=neuropeptide_receptor_antagonist thr=0.05 thr2=0.93 lenfeats=123 lenfeats_uncorr=123 sum_ones=37 loss=0.012019272948244043 AUC=0.859962970592335 Mean_AUC=0.7973506461654241 mlogloss=0.018823499199607668\n",
      "BEST 137/206: col=nfkb_inhibitor thr=0.05 thr2=0.93 lenfeats=823 lenfeats_uncorr=823 sum_ones=832 loss=0.12247292470422322 AUC=0.9282785588216008 Mean_AUC=0.7983063243599946 mlogloss=0.019510015853759104\n",
      "BEST 138/206: col=nicotinic_receptor_agonist thr=0.05 thr2=0.93 lenfeats=61 lenfeats_uncorr=61 sum_ones=6 loss=0.009441983705553398 AUC=0.5 Mean_AUC=0.7961446843284005 mlogloss=0.019431697881268212\n",
      "BEST 139/206: col=nitric_oxide_donor thr=0.05 thr2=0.93 lenfeats=108 lenfeats_uncorr=108 sum_ones=26 loss=0.008075540744518075 AUC=0.8656898935386299 Mean_AUC=0.7966450095745173 mlogloss=0.019345446554262142\n",
      "BEST 140/206: col=nitric_oxide_production_inhibitor thr=0.05 thr2=0.93 lenfeats=309 lenfeats_uncorr=309 sum_ones=12 loss=0.011760054190831147 AUC=0.5382742219790907 Mean_AUC=0.7947995039488358 mlogloss=0.0192846831393253\n",
      "BEST 141/206: col=nitric_oxide_synthase_inhibitor thr=0.05 thr2=0.93 lenfeats=72 lenfeats_uncorr=72 sum_ones=26 loss=0.008051057210812682 AUC=0.8611019488676637 Mean_AUC=0.795269734054643 mlogloss=0.019200537857177968\n",
      "BEST 142/206: col=norepinephrine_reuptake_inhibitor thr=0.05 thr2=0.93 lenfeats=55 lenfeats_uncorr=55 sum_ones=7 loss=0.0110156476564788 AUC=0.5 Mean_AUC=0.7931903697303145 mlogloss=0.019136819221505483\n",
      "BEST 143/206: col=nrf2_activator thr=0.05 thr2=0.93 lenfeats=350 lenfeats_uncorr=350 sum_ones=18 loss=0.007135015200639957 AUC=0.8267137862897097 Mean_AUC=0.7934247992167438 mlogloss=0.019048980869581896\n",
      "BEST 144/206: col=opioid_receptor_agonist thr=0.05 thr2=0.93 lenfeats=89 lenfeats_uncorr=89 sum_ones=61 loss=0.017520159463898552 AUC=0.7873563691898852 Mean_AUC=0.7933826573415572 mlogloss=0.01902883049978467\n",
      "BEST 145/206: col=opioid_receptor_antagonist thr=0.05 thr2=0.93 lenfeats=91 lenfeats_uncorr=91 sum_ones=96 loss=0.027442094212385037 AUC=0.7619635311794496 Mean_AUC=0.793165973712853 mlogloss=0.01907202343881258\n",
      "BEST 146/206: col=orexin_receptor_antagonist thr=0.05 thr2=0.93 lenfeats=100 lenfeats_uncorr=100 sum_ones=37 loss=0.011176983249631985 AUC=0.8436734849951955 Mean_AUC=0.7935119155709512 mlogloss=0.019011949205453547\n",
      "BEST 147/206: col=p38_mapk_inhibitor thr=0.05 thr2=0.93 lenfeats=282 lenfeats_uncorr=282 sum_ones=62 loss=0.01867738383293866 AUC=0.8903931810879249 Mean_AUC=0.7941709717989578 mlogloss=0.018999717408456147\n",
      "BEST 148/206: col=p-glycoprotein_inhibitor thr=0.05 thr2=0.93 lenfeats=81 lenfeats_uncorr=81 sum_ones=24 loss=0.00858945352794031 AUC=0.8669532627865961 Mean_AUC=0.7946627440353609 mlogloss=0.018924830178728192\n",
      "BEST 149/206: col=parp_inhibitor thr=0.05 thr2=0.93 lenfeats=132 lenfeats_uncorr=132 sum_ones=61 loss=0.015916608286103195 AUC=0.919952483209211 Mean_AUC=0.7955036147680712 mlogloss=0.018896270421365668\n",
      "BEST 150/206: col=pdgfr_inhibitor thr=0.05 thr2=0.93 lenfeats=573 lenfeats_uncorr=573 sum_ones=297 loss=0.061525591324555345 AUC=0.8727899132037509 Mean_AUC=0.7960188567576425 mlogloss=0.019148326045389893\n",
      "BEST 151/206: col=pdk_inhibitor thr=0.05 thr2=0.93 lenfeats=64 lenfeats_uncorr=64 sum_ones=18 loss=0.005450999848934692 AUC=0.9525459796321629 Mean_AUC=0.7970554602203876 mlogloss=0.01905478663044268\n",
      "BEST 152/206: col=phosphodiesterase_inhibitor thr=0.05 thr2=0.93 lenfeats=390 lenfeats_uncorr=390 sum_ones=264 loss=0.06213632377437466 AUC=0.6871106261843672 Mean_AUC=0.7963321389438349 mlogloss=0.019306186002269132\n",
      "BEST 153/206: col=phospholipase_inhibitor thr=0.05 thr2=0.93 lenfeats=126 lenfeats_uncorr=126 sum_ones=25 loss=0.007703679724850939 AUC=0.8874898508415818 Mean_AUC=0.7969279409823823 mlogloss=0.019226407272984\n",
      "BEST 154/206: col=pi3k_inhibitor thr=0.05 thr2=0.93 lenfeats=717 lenfeats_uncorr=717 sum_ones=151 loss=0.035422826929494555 AUC=0.8509361060988101 Mean_AUC=0.7972786433532681 mlogloss=0.01931355521898371\n",
      "BEST 155/206: col=pkc_inhibitor thr=0.05 thr2=0.93 lenfeats=78 lenfeats_uncorr=78 sum_ones=31 loss=0.010287356048904343 AUC=0.8621249965044074 Mean_AUC=0.7976970069219852 mlogloss=0.019250121100960554\n",
      "BEST 156/206: col=potassium_channel_activator thr=0.05 thr2=0.93 lenfeats=126 lenfeats_uncorr=126 sum_ones=55 loss=0.017337869318205884 AUC=0.7894229371779273 Mean_AUC=0.7976439680133695 mlogloss=0.01922915443512773\n",
      "BEST 157/206: col=potassium_channel_antagonist thr=0.05 thr2=0.93 lenfeats=190 lenfeats_uncorr=190 sum_ones=98 loss=0.02833007276209433 AUC=0.7250684163825714 Mean_AUC=0.7971817033533006 mlogloss=0.01927298278671675\n",
      "BEST 158/206: col=ppar_receptor_agonist thr=0.05 thr2=0.93 lenfeats=168 lenfeats_uncorr=168 sum_ones=115 loss=0.03234825706598697 AUC=0.8045945606869537 Mean_AUC=0.7972286201718681 mlogloss=0.01933969514876774\n",
      "BEST 159/206: col=ppar_receptor_antagonist thr=0.05 thr2=0.93 lenfeats=153 lenfeats_uncorr=153 sum_ones=30 loss=0.00928986650450139 AUC=0.8427000638744411 Mean_AUC=0.7975146040945258 mlogloss=0.019271910512218143\n"
     ]
    },
    {
     "name": "stdout",
     "output_type": "stream",
     "text": [
      "BEST 160/206: col=progesterone_receptor_agonist thr=0.05 thr2=0.93 lenfeats=312 lenfeats_uncorr=312 sum_ones=119 loss=0.03140189449153449 AUC=0.850297441804153 Mean_AUC=0.797844496830211 mlogloss=0.01933234437028541\n",
      "BEST 161/206: col=progesterone_receptor_antagonist thr=0.05 thr2=0.93 lenfeats=102 lenfeats_uncorr=102 sum_ones=18 loss=0.005116259105079315 AUC=0.9719410244718042 Mean_AUC=0.7989258417223948 mlogloss=0.019241555666215077\n",
      "BEST 162/206: col=prostaglandin_inhibitor thr=0.05 thr2=0.93 lenfeats=148 lenfeats_uncorr=148 sum_ones=36 loss=0.011012424020165229 AUC=0.8385942760942761 Mean_AUC=0.7991707086012335 mlogloss=0.01918543199266257\n",
      "BEST 163/206: col=prostanoid_receptor_antagonist thr=0.05 thr2=0.93 lenfeats=163 lenfeats_uncorr=163 sum_ones=84 loss=0.02371876345528669 AUC=0.7378747190423919 Mean_AUC=0.7987946595855352 mlogloss=0.019201841771424297\n",
      "BEST 164/206: col=proteasome_inhibitor thr=0.05 thr2=0.93 lenfeats=860 lenfeats_uncorr=860 sum_ones=726 loss=0.08892780413557706 AUC=0.9963417686256765 Mean_AUC=0.7999992151284627 mlogloss=0.019584511420867784\n",
      "BEST 165/206: col=protein_kinase_inhibitor thr=0.05 thr2=0.93 lenfeats=123 lenfeats_uncorr=123 sum_ones=48 loss=0.01580955921603732 AUC=0.7469967656012176 Mean_AUC=0.799677988161631 mlogloss=0.019554125080949846\n",
      "BEST 166/206: col=protein_phosphatase_inhibitor thr=0.05 thr2=0.93 lenfeats=78 lenfeats_uncorr=78 sum_ones=6 loss=0.009441983705553398 AUC=0.5 Mean_AUC=0.79787269907632 mlogloss=0.019488751650643017\n",
      "BEST 167/206: col=protein_synthesis_inhibitor thr=0.05 thr2=0.93 lenfeats=425 lenfeats_uncorr=425 sum_ones=103 loss=0.03125663252830286 AUC=0.6261755928241116 Mean_AUC=0.7968445726915762 mlogloss=0.019544552228605957\n",
      "BEST 168/206: col=protein_tyrosine_kinase_inhibitor thr=0.05 thr2=0.93 lenfeats=56 lenfeats_uncorr=56 sum_ones=19 loss=0.0076438433641997094 AUC=0.8177275465557505 Mean_AUC=0.7969688761074345 mlogloss=0.019470149493166576\n",
      "BEST 169/206: col=radiopaque_medium thr=0.05 thr2=0.93 lenfeats=128 lenfeats_uncorr=128 sum_ones=56 loss=0.016486312637272956 AUC=0.7759218958001619 Mean_AUC=0.7968443377624209 mlogloss=0.019444849734070218\n",
      "BEST 170/206: col=raf_inhibitor thr=0.05 thr2=0.93 lenfeats=798 lenfeats_uncorr=798 sum_ones=223 loss=0.04863696175652971 AUC=0.9212475553055675 Mean_AUC=0.7975761213950276 mlogloss=0.019594150043098807\n",
      "BEST 171/206: col=ras_gtpase_inhibitor thr=0.05 thr2=0.93 lenfeats=60 lenfeats_uncorr=60 sum_ones=12 loss=0.010095925264856616 AUC=0.7264276379771457 Mean_AUC=0.797160048392584 mlogloss=0.01953397861673423\n",
      "BEST 172/206: col=retinoid_receptor_agonist thr=0.05 thr2=0.93 lenfeats=173 lenfeats_uncorr=173 sum_ones=67 loss=0.015322354645418985 AUC=0.9728790806717749 Mean_AUC=0.7981816706732769 mlogloss=0.019502512094446856\n",
      "BEST 173/206: col=retinoid_receptor_antagonist thr=0.05 thr2=0.93 lenfeats=66 lenfeats_uncorr=66 sum_ones=6 loss=0.009441983705553398 AUC=0.5 Mean_AUC=0.796458077201177 mlogloss=0.01944008217280275\n",
      "BEST 174/206: col=rho_associated_kinase_inhibitor thr=0.05 thr2=0.93 lenfeats=173 lenfeats_uncorr=173 sum_ones=35 loss=0.010752258675550545 AUC=0.9019564381221845 Mean_AUC=0.7970643896202632 mlogloss=0.01938531009739551\n",
      "BEST 175/206: col=ribonucleoside_reductase_inhibitor thr=0.05 thr2=0.93 lenfeats=426 lenfeats_uncorr=426 sum_ones=37 loss=0.010129518411296036 AUC=0.8573368676969608 Mean_AUC=0.7974088037807016 mlogloss=0.019327884308347473\n",
      "BEST 176/206: col=rna_polymerase_inhibitor thr=0.05 thr2=0.93 lenfeats=95 lenfeats_uncorr=95 sum_ones=25 loss=0.008087925714522264 AUC=0.8202508780732564 Mean_AUC=0.7975385882937275 mlogloss=0.019260420067646663\n",
      "BEST 177/206: col=serotonin_receptor_agonist thr=0.05 thr2=0.93 lenfeats=319 lenfeats_uncorr=319 sum_ones=236 loss=0.05730176206910487 AUC=0.6645547881043679 Mean_AUC=0.7967872673887029 mlogloss=0.019449975618078177\n",
      "BEST 178/206: col=serotonin_receptor_antagonist thr=0.05 thr2=0.93 lenfeats=508 lenfeats_uncorr=508 sum_ones=404 loss=0.08901890074041392 AUC=0.6991717158162158 Mean_AUC=0.7962388654135766 mlogloss=0.019801625321368966\n",
      "BEST 179/206: col=serotonin_reuptake_inhibitor thr=0.05 thr2=0.93 lenfeats=96 lenfeats_uncorr=96 sum_ones=44 loss=0.01542676480041149 AUC=0.8213993708081545 Mean_AUC=0.7963794268962279 mlogloss=0.019770431691884867\n",
      "BEST 180/206: col=sigma_receptor_agonist thr=0.05 thr2=0.93 lenfeats=127 lenfeats_uncorr=127 sum_ones=36 loss=0.012372442001021559 AUC=0.8165439535921464 Mean_AUC=0.7964914520445385 mlogloss=0.019723945800468958\n",
      "BEST 181/206: col=sigma_receptor_antagonist thr=0.05 thr2=0.93 lenfeats=62 lenfeats_uncorr=62 sum_ones=36 loss=0.010801504311287543 AUC=0.8457402843698023 Mean_AUC=0.7967635450408106 mlogloss=0.019669974431041848\n",
      "BEST 182/206: col=smoothened_receptor_antagonist thr=0.05 thr2=0.93 lenfeats=63 lenfeats_uncorr=63 sum_ones=25 loss=0.008108185383918866 AUC=0.8425434475208685 Mean_AUC=0.7970150829665251 mlogloss=0.01960295726450887\n",
      "BEST 183/206: col=sodium_channel_inhibitor thr=0.05 thr2=0.93 lenfeats=301 lenfeats_uncorr=301 sum_ones=267 loss=0.06355116514779854 AUC=0.6458697072826671 Mean_AUC=0.7961891519518594 mlogloss=0.019815899953859274\n",
      "BEST 184/206: col=sphingosine_receptor_agonist thr=0.05 thr2=0.93 lenfeats=114 lenfeats_uncorr=114 sum_ones=25 loss=0.007772567389240681 AUC=0.8829849929297998 Mean_AUC=0.7966608684789134 mlogloss=0.019747137074962194\n",
      "BEST 185/206: col=src_inhibitor thr=0.05 thr2=0.93 lenfeats=433 lenfeats_uncorr=433 sum_ones=71 loss=0.021125480495869053 AUC=0.8291298276471464 Mean_AUC=0.7968363763663092 mlogloss=0.01974563982342952\n",
      "BEST 186/206: col=steroid thr=0.05 thr2=0.93 lenfeats=49 lenfeats_uncorr=49 sum_ones=6 loss=0.0094419837055534 AUC=0.5 Mean_AUC=0.7952404818697162 mlogloss=0.019686266145077836\n",
      "BEST 187/206: col=syk_inhibitor thr=0.05 thr2=0.93 lenfeats=267 lenfeats_uncorr=267 sum_ones=19 loss=0.005476991612986109 AUC=0.9348015485382251 Mean_AUC=0.7959867977342537 mlogloss=0.019607985735258005\n",
      "BEST 188/206: col=tachykinin_antagonist thr=0.05 thr2=0.93 lenfeats=187 lenfeats_uncorr=187 sum_ones=60 loss=0.01697076336793402 AUC=0.8338831018518518 Mean_AUC=0.7961883738199855 mlogloss=0.019586884644647078\n",
      "BEST 189/206: col=tgf-beta_receptor_inhibitor thr=0.05 thr2=0.93 lenfeats=352 lenfeats_uncorr=352 sum_ones=30 loss=0.006333372453759161 AUC=0.9962268455151017 Mean_AUC=0.797246778432129 mlogloss=0.019514134496716552\n",
      "BEST 190/206: col=thrombin_inhibitor thr=0.05 thr2=0.93 lenfeats=95 lenfeats_uncorr=95 sum_ones=19 loss=0.005824581676572409 AUC=0.9419226162903725 Mean_AUC=0.7980082302103304 mlogloss=0.019439682122335405\n",
      "BEST 191/206: col=thymidylate_synthase_inhibitor thr=0.05 thr2=0.93 lenfeats=132 lenfeats_uncorr=132 sum_ones=37 loss=0.010489795718254561 AUC=0.8785849881646514 Mean_AUC=0.798430098053023 mlogloss=0.019388520666067426\n",
      "BEST 192/206: col=tlr_agonist thr=0.05 thr2=0.93 lenfeats=90 lenfeats_uncorr=90 sum_ones=30 loss=0.00926750302045623 AUC=0.8580116798978008 Mean_AUC=0.798740418791798 mlogloss=0.019332024864654927\n",
      "BEST 193/206: col=tlr_antagonist thr=0.05 thr2=0.93 lenfeats=57 lenfeats_uncorr=57 sum_ones=7 loss=0.011015647656478798 AUC=0.5 Mean_AUC=0.7971925409742239 mlogloss=0.01928446251609032\n",
      "BEST 194/206: col=tnf_inhibitor thr=0.05 thr2=0.93 lenfeats=158 lenfeats_uncorr=158 sum_ones=36 loss=0.014675094128981032 AUC=0.8030556569713196 Mean_AUC=0.7972227632216317 mlogloss=0.01925477556411645\n",
      "BEST 195/206: col=topoisomerase_inhibitor thr=0.05 thr2=0.93 lenfeats=839 lenfeats_uncorr=839 sum_ones=127 loss=0.0316818926756608 AUC=0.8848122537453086 Mean_AUC=0.797671940096112 mlogloss=0.019305773566834425\n",
      "BEST 196/206: col=transient_receptor_potential_channel_antagonist thr=0.05 thr2=0.93 lenfeats=60 lenfeats_uncorr=60 sum_ones=18 loss=0.007050646184902596 AUC=0.8672189289152353 Mean_AUC=0.7980267716717198 mlogloss=0.019240428685403346\n",
      "BEST 197/206: col=tropomyosin_receptor_kinase_inhibitor thr=0.05 thr2=0.93 lenfeats=72 lenfeats_uncorr=72 sum_ones=6 loss=0.009441983705553398 AUC=0.5 Mean_AUC=0.796513945419579 mlogloss=0.019186934812127267\n",
      "BEST 198/206: col=trpv_agonist thr=0.05 thr2=0.93 lenfeats=218 lenfeats_uncorr=218 sum_ones=25 loss=0.006987038619813909 AUC=0.9289367331113443 Mean_AUC=0.7971827473776183 mlogloss=0.019122554097704053\n"
     ]
    },
    {
     "name": "stdout",
     "output_type": "stream",
     "text": [
      "BEST 199/206: col=trpv_antagonist thr=0.05 thr2=0.93 lenfeats=65 lenfeats_uncorr=65 sum_ones=48 loss=0.015298282316752947 AUC=0.8220852359208524 Mean_AUC=0.7973078855110013 mlogloss=0.019097312874582772\n",
      "BEST 200/206: col=tubulin_inhibitor thr=0.05 thr2=0.93 lenfeats=802 lenfeats_uncorr=802 sum_ones=316 loss=0.0459148300238122 AUC=0.9558626811662049 Mean_AUC=0.7981006594892774 mlogloss=0.01921341165693083\n",
      "BEST 201/206: col=tyrosine_kinase_inhibitor thr=0.05 thr2=0.93 lenfeats=130 lenfeats_uncorr=130 sum_ones=73 loss=0.020373994015926277 AUC=0.7956828180039139 Mean_AUC=0.7980886304271612 mlogloss=0.019211243158585942\n",
      "BEST 202/206: col=ubiquitin_specific_protease_inhibitor thr=0.05 thr2=0.93 lenfeats=49 lenfeats_uncorr=49 sum_ones=6 loss=0.0094419837055534 AUC=0.5 Mean_AUC=0.7966129441379178 mlogloss=0.019159217873890053\n",
      "BEST 203/206: col=vegfr_inhibitor thr=0.05 thr2=0.93 lenfeats=288 lenfeats_uncorr=288 sum_ones=170 loss=0.040326076779139707 AUC=0.885657949468703 Mean_AUC=0.7970515894843749 mlogloss=0.019247922394412555\n",
      "BEST 204/206: col=vitamin_b thr=0.05 thr2=0.93 lenfeats=54 lenfeats_uncorr=54 sum_ones=26 loss=0.008115810572356831 AUC=0.8471907391942061 Mean_AUC=0.7972973696300114 mlogloss=0.019190235901408264\n",
      "BEST 205/206: col=vitamin_d_receptor_agonist thr=0.05 thr2=0.93 lenfeats=206 lenfeats_uncorr=206 sum_ones=39 loss=0.009124825523405615 AUC=0.9820083304952536 Mean_AUC=0.7981983987074027 mlogloss=0.01913764855123949\n",
      "BEST 206/206: col=wnt_inhibitor thr=0.05 thr2=0.93 lenfeats=63 lenfeats_uncorr=63 sum_ones=30 loss=0.009324612967099324 AUC=0.8267755573805395 Mean_AUC=0.7983371227786317 mlogloss=0.01908646560566099\n",
      "\n"
     ]
    }
   ],
   "source": [
    "from scipy.stats import norm\n",
    "from sklearn.naive_bayes import ComplementNB\n",
    "from sklearn.linear_model import LogisticRegression\n",
    "from sklearn.metrics import roc_auc_score\n",
    "from sklearn.preprocessing import MinMaxScaler, StandardScaler\n",
    "from sklearn.kernel_ridge import KernelRidge\n",
    "from scipy.stats import ks_2samp\n",
    "import pickle\n",
    "\n",
    "folds_feat = folds.copy()\n",
    "test_feat = test_noctl.copy()\n",
    "\n",
    "folds_feat['cp_dose'] = (folds_feat['cp_dose']=='D2').astype(float)\n",
    "folds_feat['cp_time'] /= 72.0\n",
    "\n",
    "test_feat['cp_dose'] = (test_feat['cp_dose']=='D2').astype(float)\n",
    "test_feat['cp_time'] /= 72.0\n",
    "\n",
    "# C_logistic = 0.01\n",
    "thr= 0.05 #p-value thr\n",
    "thr2 = 0.93 #Correlation Thr\n",
    "\n",
    "# for thr in [0.05]: #1, 0.03, 0.05, 0.07, 0.09]:\n",
    "#     for thr2 in [0.90, 0.93, 0.95, 0.97, 1.00]:\n",
    "res = []\n",
    "res_best = []\n",
    "features_models = []\n",
    "list_target_cols = []\n",
    "list_new_cols = []\n",
    "scaler = StandardScaler()\n",
    "list_AUC = []\n",
    "list_loss = []\n",
    "\n",
    "for ncol, col_target in enumerate(tqdm(target_cols)):\n",
    "#             if ncol<=50: #00:\n",
    "    list_target_cols.append(col_target)\n",
    "    name_feat = f'kridge_{col_target}'\n",
    "    list_new_cols.append(name_feat)\n",
    "\n",
    "    # Compare distribution of positives and negatives with kolgomorov\n",
    "    pvalues = []\n",
    "    for col_feat in GENES+CELLS:\n",
    "        values_orig = train_noctl[col_feat].values\n",
    "        target_orig = train_noctl[col_target].values\n",
    "        target = target_orig[values_orig> -4]\n",
    "        values = values_orig[values_orig> -4]\n",
    "        positive = values[target==1]\n",
    "        negative = values[target==0]\n",
    "        if len(positive)>0:\n",
    "            pvalue = ks_2samp(positive, negative)[1]\n",
    "        else:\n",
    "            pvalue = 1.0\n",
    "        pvalues.append(pvalue)\n",
    "    pvalues = np.array(pvalues)\n",
    "\n",
    "    # Search best model with different thresholds\n",
    "    best_auc = 0.0\n",
    "    best_loss = 999999.9\n",
    "    best_thr = 0.0 # thr=pvalue\n",
    "    best_thr2 = 0.0 #th2=correlation\n",
    "    best_lenfeats = 0\n",
    "    best_lenfeats_uncorr = 0\n",
    "    best_list_feats = []\n",
    "    alpha = 100\n",
    "    folds_feat[name_feat] = 0.0\n",
    "    feats_trn = np.array(GENES+CELLS)[pvalues<thr]\n",
    "    feats_trn_uncorr = trimm_correlated(folds_feat[feats_trn], thr2).tolist()\n",
    "    if len(feats_trn_uncorr)>0:\n",
    "        X_trn = folds_feat.loc[:, feats_trn_uncorr].astype(float).values\n",
    "        X_trn = scaler.fit_transform(X_trn)\n",
    "\n",
    "        for fold in range(CFG.num_folds):\n",
    "            X_trn_fold = X_trn[folds_feat['kfold']!=fold, :]\n",
    "            X_val_fold = X_trn[folds_feat['kfold']==fold, :]\n",
    "            y_trn_fold = folds_feat.loc[folds_feat['kfold']!=fold, col_target].astype(float).values\n",
    "            if np.sum(y_trn_fold)>10:\n",
    "                model = KernelRidge(alpha = alpha, kernel = 'rbf')\n",
    "#                 model = LogisticRegression(C=C_logistic)\n",
    "                model.fit(X_trn_fold, y_trn_fold)\n",
    "#                 folds_feat.loc[folds_feat['kfold']==fold, name_feat] = model.predict_proba(X_val_fold)[:,1]\n",
    "                folds_feat.loc[folds_feat['kfold']==fold, name_feat] = model.predict(X_val_fold)\n",
    "\n",
    "        auc = roc_auc_score(folds_feat[col_target].values, folds_feat[name_feat].values)\n",
    "        list_AUC.append(auc)\n",
    "        loss = log_loss(folds_feat[col_target].values, folds_feat[name_feat].values)\n",
    "        list_loss.append(loss)\n",
    "        lenfeats = len(feats_trn)\n",
    "        lenfeats_uncorr = len(feats_trn_uncorr)\n",
    "        res.append(dict({'ncol':ncol, 'col':col_target, 'thr':thr, 'thr2':thr2, \\\n",
    "                         'lenfeats':lenfeats, 'lenfeats_uncorr':lenfeats_uncorr, \\\n",
    "                         'sumones':folds_feat[col_target].sum(), 'AUC':auc, 'Mean_AUC':np.mean(list_AUC), \\\n",
    "                         'loss':loss, 'Mean_loss':np.mean(list_loss)}))\n",
    "#                         print(f'{ncol+1}/{len(target_cols)}: col={col_target} thr={thr} thr2={thr2} lenfeats={lenfeats} lenfeats_uncorr={lenfeats_uncorr} sum_ones={folds_feat[col_target].sum()} loss={loss} AUC={auc} Mean_AUC={np.mean(list_AUC)}')\n",
    "        if loss < best_loss:\n",
    "            best_auc = auc\n",
    "            best_loss = loss\n",
    "            best_thr = thr\n",
    "            best_thr2 = thr2\n",
    "            best_lenfeats = lenfeats\n",
    "            best_lenfeats_uncorr = lenfeats_uncorr\n",
    "            preds = folds_feat[name_feat].values\n",
    "            best_list_feats = feats_trn_uncorr\n",
    "\n",
    "        # Get best\n",
    "        loss = best_loss\n",
    "        auc = best_auc\n",
    "        thr = best_thr\n",
    "        thr2 = best_thr2\n",
    "        lenfeats = best_lenfeats\n",
    "        lenfeats_uncorr = best_lenfeats_uncorr\n",
    "        folds_feat[name_feat] = preds\n",
    "        feats_trn_uncorr = best_list_feats\n",
    "\n",
    "        # Provisional mlogloss\n",
    "        valid_results_score = train_targets_scored[['sig_id']].merge(folds_feat[['sig_id']+list_new_cols], on='sig_id', how='left').fillna(0)\n",
    "        y_true = train_targets_scored[list_target_cols].values\n",
    "        valid_results_score.columns = ['sig_id']+list_target_cols\n",
    "        y_pred = valid_results_score[list_target_cols].values\n",
    "        score = 0\n",
    "        for i in range(len(list_target_cols)):\n",
    "            score_ = log_loss(y_true[:, i], y_pred[:, i])\n",
    "            score += score_ \n",
    "        score /= len(list_target_cols)\n",
    "#         print(C_logistic, thr, thr2, np.mean(list_AUC))\n",
    "        print(f'BEST {ncol+1}/{len(target_cols)}: col={col_target} thr={thr} thr2={thr2} lenfeats={lenfeats} lenfeats_uncorr={lenfeats_uncorr} sum_ones={folds_feat[col_target].sum()} loss={loss} AUC={auc} Mean_AUC={np.mean(list_AUC)} mlogloss={score}')\n",
    "        \n",
    "        # With Test DB\n",
    "        X_trn = folds_feat[feats_trn_uncorr].astype(float).values\n",
    "        X_test = test_feat[feats_trn_uncorr].astype(float).values\n",
    "        y = folds_feat[col_target].astype(float).values \n",
    "\n",
    "        scaler = StandardScaler()\n",
    "        X_trn = scaler.fit_transform(X_trn)\n",
    "        X_test = scaler.transform(X_test)\n",
    "\n",
    "        model = KernelRidge(alpha = alpha, kernel = 'rbf')\n",
    "#         model = LogisticRegression(C=C_logistic)\n",
    "        model.fit(X_trn, y)\n",
    "#         test_feat[name_feat] = model.predict_proba(X_test)[:,1]\n",
    "        test_feat[name_feat] = model.predict(X_test)\n",
    "\n",
    "        # Save all\n",
    "        with open(output_dir / f'model__{name_feat}__{col_target}.pkl', 'wb') as file:\n",
    "            pickle.dump(model, file)\n",
    "            pickle.dump(feats_trn_uncorr, file)\n",
    "        \n",
    "        folds_feat.to_csv( output_dir / 'folds.csv',index=False)\n",
    "        test_feat.to_csv(output_dir / 'test.csv',index=False)\n",
    "        \n",
    "        res_best.append(dict({'ncol':ncol, 'col':col_target, 'thr':thr, 'thr2':thr2, \\\n",
    "                     'lenfeats':lenfeats, 'lenfeats_uncorr':lenfeats_uncorr, \\\n",
    "                     'sumones':folds_feat[col_target].sum(), 'AUC':auc, 'loss':loss, 'mlogloss':score}))\n",
    "        res_df = pd.DataFrame(res_best)\n",
    "        res_df.to_csv(output_dir / 'res.csv',index=False)"
   ]
  },
  {
   "cell_type": "code",
   "execution_count": 21,
   "metadata": {
    "ExecuteTime": {
     "end_time": "2020-10-18T07:44:08.685849Z",
     "start_time": "2020-10-18T07:44:08.681506Z"
    }
   },
   "outputs": [
    {
     "ename": "SystemExit",
     "evalue": "0",
     "output_type": "error",
     "traceback": [
      "An exception has occurred, use %tb to see the full traceback.\n",
      "\u001b[0;31mSystemExit\u001b[0m\u001b[0;31m:\u001b[0m 0\n"
     ]
    }
   ],
   "source": [
    "# STOP!!!!\n",
    "# STOP!!!!\n",
    "# STOP!!!!\n",
    "sys.exit(0)\n",
    "# STOP!!!!\n",
    "# STOP!!!!\n",
    "# STOP!!!!\n"
   ]
  },
  {
   "cell_type": "code",
   "execution_count": null,
   "metadata": {},
   "outputs": [],
   "source": []
  },
  {
   "cell_type": "code",
   "execution_count": null,
   "metadata": {},
   "outputs": [],
   "source": []
  },
  {
   "cell_type": "code",
   "execution_count": null,
   "metadata": {},
   "outputs": [],
   "source": []
  },
  {
   "cell_type": "code",
   "execution_count": null,
   "metadata": {},
   "outputs": [],
   "source": []
  },
  {
   "cell_type": "code",
   "execution_count": null,
   "metadata": {},
   "outputs": [],
   "source": []
  },
  {
   "cell_type": "code",
   "execution_count": null,
   "metadata": {},
   "outputs": [],
   "source": []
  },
  {
   "cell_type": "code",
   "execution_count": null,
   "metadata": {},
   "outputs": [],
   "source": []
  },
  {
   "cell_type": "code",
   "execution_count": null,
   "metadata": {
    "ExecuteTime": {
     "end_time": "2020-10-03T12:15:31.055566Z",
     "start_time": "2020-10-03T12:14:29.279Z"
    }
   },
   "outputs": [],
   "source": [
    "# Provisional mlogloss\n",
    "valid_results_score = train_targets_scored[['sig_id']].merge(folds_feat[['sig_id']+list_new_cols], on='sig_id', how='left').fillna(0)\n",
    "y_true = train_targets_scored[list_target_cols].values\n",
    "valid_results_score.columns = ['sig_id']+list_target_cols\n",
    "y_pred = valid_results_score[list_target_cols].values\n",
    "score = 0\n",
    "for i in range(len(list_target_cols)):\n",
    "    score_ = log_loss(y_true[:, i], y_pred[:, i])\n",
    "    score += score_ \n",
    "score /= len(list_target_cols)\n",
    "score"
   ]
  },
  {
   "cell_type": "code",
   "execution_count": null,
   "metadata": {
    "ExecuteTime": {
     "end_time": "2020-10-03T12:15:31.056535Z",
     "start_time": "2020-10-03T12:14:29.284Z"
    }
   },
   "outputs": [],
   "source": [
    "from scipy.stats import norm\n",
    "from sklearn.naive_bayes import ComplementNB\n",
    "from sklearn.metrics import roc_auc_score\n",
    "from sklearn.preprocessing import MinMaxScaler\n",
    "from scipy.stats import ks_2samp\n",
    "import pickle\n",
    "\n",
    "folds_feat = folds.copy()\n",
    "test_feat = test_noctl.copy()\n",
    "\n",
    "folds_feat['cp_dose'] = (folds_feat['cp_dose']=='D2').astype(float)\n",
    "folds_feat['cp_time'] /= 72.0\n",
    "\n",
    "test_feat['cp_dose'] = (test_feat['cp_dose']=='D2').astype(float)\n",
    "test_feat['cp_time'] /= 72.0\n",
    "\n",
    "res = []\n",
    "res_best = []\n",
    "features_models = []\n",
    "list_target_cols = []\n",
    "list_new_cols = []\n",
    "for ncol, col_target in enumerate(target_cols):\n",
    "    if ncol>100:\n",
    "        list_target_cols.append(col_target)\n",
    "        name_feat = f'bayes_{col_target}'\n",
    "        list_new_cols.append(name_feat)\n",
    "            \n",
    "        # Compare distribution of positives and negatives with kolgomorov\n",
    "        pvalues = []\n",
    "        for col_feat in GENES+CELLS:\n",
    "            values_orig = train_noctl[col_feat].values\n",
    "            target_orig = train_noctl[col_target].values\n",
    "            target = target_orig[values_orig> -4]\n",
    "            values = values_orig[values_orig> -4]\n",
    "            positive = values[target==1]\n",
    "            negative = values[target==0]\n",
    "            if len(positive)>0:\n",
    "                pvalue = ks_2samp(positive, negative)[1]\n",
    "            else:\n",
    "                pvalue = 1.0\n",
    "            pvalues.append(pvalue)\n",
    "        pvalues = np.array(pvalues)\n",
    "        \n",
    "        # Search best model with different thresholds\n",
    "        best_auc = 0.0\n",
    "        best_thr = 0.0 # thr=pvalue\n",
    "        best_thr2 = 0.0 #th2=correlation\n",
    "        best_lenfeats = 0\n",
    "        best_lenfeats_uncorr = 0\n",
    "        best_list_feats = []\n",
    "\n",
    "        for thr in [0.0001, 0.0005, 0.001, 0.005, 0.01, 0.05, 0.1, 0.2, 0.3, 0.4]:\n",
    "            for thr2 in [0.50, 0.60, 0.75, 0.80, 0.85, 0.90, 0.95]:\n",
    "                folds_feat[name_feat] = 0.0\n",
    "                feats_trn = np.array(GENES+CELLS)[pvalues<thr]\n",
    "                feats_trn_uncorr = trimm_correlated(folds_feat[feats_trn], thr2)\n",
    "    #             print(len(feats_trn), len(feats_trn_uncorr))\n",
    "\n",
    "                if len(feats_trn_uncorr)>0:\n",
    "                    for fold in range(CFG.num_folds):\n",
    "                        X_trn  = folds_feat.loc[folds_feat['kfold']!=fold, feats_trn_uncorr.tolist()].astype(float).values\n",
    "                        X_fold = folds_feat.loc[folds_feat['kfold']==fold, feats_trn_uncorr.tolist()].astype(float).values\n",
    "                        y = folds_feat.loc[folds_feat['kfold']!=fold, col_target].astype(float).values\n",
    "                        \n",
    "                        scaler = MinMaxScaler()\n",
    "                        X_trn = scaler.fit_transform(X_trn)\n",
    "                        X_fold = scaler.transform(X_fold)\n",
    "\n",
    "                        model = ComplementNB()\n",
    "                        model.fit(X_trn, y)\n",
    "                        folds_feat.loc[folds_feat['kfold']==fold, name_feat] = model.predict_proba(X_fold)[:,1]\n",
    "\n",
    "                    auc = roc_auc_score(folds_feat[col_target].values, folds_feat[name_feat].values)\n",
    "                    lenfeats = len(feats_trn)\n",
    "                    lenfeats_uncorr = len(feats_trn_uncorr)\n",
    "                    res.append(dict({'ncol':ncol, 'col':col_target, 'thr':thr, 'thr2':thr2, \\\n",
    "                                     'lenfeats':lenfeats, 'lenfeats_uncorr':lenfeats_uncorr, \\\n",
    "                                     'sumones':folds_feat[col_target].sum(), 'AUC':auc}))\n",
    "                    print(f'{ncol+1}/{len(target_cols)}: col={col_target} thr={thr} thr2={thr2} lenfeats={lenfeats} lenfeats_uncorr={lenfeats_uncorr} sum_ones={folds_feat[col_target].sum()} AUC={auc}')\n",
    "        #             print(f'{ncol+1}/{len(target_cols)}: col={col_target} thr={thr} lenfeats={lenfeats} sum_ones={folds_feat[col_target].sum()} AUC={auc}')\n",
    "                    if auc>best_auc:\n",
    "                        best_auc = auc\n",
    "                        best_thr = thr\n",
    "                        best_thr2 = thr2\n",
    "                        best_lenfeats = lenfeats\n",
    "                        best_lenfeats_uncorr = lenfeats_uncorr\n",
    "                        preds = folds_feat[name_feat].values\n",
    "                        best_list_feats = feats_trn_uncorr\n",
    "        # End of optimize loop\n",
    "        \n",
    "        # Keep best\n",
    "        auc = best_auc\n",
    "        thr = best_thr\n",
    "        thr2 = best_thr2\n",
    "        lenfeats = best_lenfeats\n",
    "        lenfeats_uncorr = best_lenfeats_uncorr\n",
    "        folds_feat[name_feat] = preds\n",
    "        feats_trn_uncorr = best_list_feats\n",
    "\n",
    "        # For Test DB\n",
    "        X_trn = folds_feat[feats_trn_uncorr.tolist()].astype(float).values\n",
    "        X_test = test_feat[feats_trn_uncorr.tolist()].astype(float).values\n",
    "        y = folds_feat[col_target].astype(float).values\n",
    "\n",
    "        scaler = MinMaxScaler()\n",
    "        X_trn = scaler.fit_transform(X_trn)\n",
    "        X_test = scaler.transform(X_test)\n",
    "\n",
    "        model = ComplementNB()\n",
    "        model.fit(X_trn, y)\n",
    "        test_feat[name_feat] = mmodel.predict_proba(X_test)[:,1]\n",
    "        \n",
    "        # Provisional mlogloss\n",
    "        valid_results = train_targets_scored.drop(columns=list_target_cols).merge(folds_feat[list_new_cols], on='sig_id', how='left').fillna(0)\n",
    "        y_true = train_targets_scored[list_target_cols].values\n",
    "        valid_results.columns = ['sig_id']+list_target_cols\n",
    "        y_pred = valid_results[target_cols].values\n",
    "        score = 0\n",
    "        for i in range(len(target_cols)):\n",
    "            score_ = log_loss(y_true[:, i], y_pred[:, i])\n",
    "            score += score_ / target.shape[1]\n",
    "\n",
    "        # Save models and results\n",
    "        folds_feat.to_csv('../input/bayes_folds_feats30sep_e31.csv',index=False)\n",
    "        test_feat.to_csv('../input/bayes_test_feats30sep_e31.csv',index=False)\n",
    "\n",
    "        with open(output_dir / f'bayes_model__{name_feat}.pkl', 'wb') as file:\n",
    "            pickle.dump(model, file)\n",
    "\n",
    "        features_models.append(feats_trn_uncorr.tolist())\n",
    "        with open(output_dir / f'bayes_feats__{name_feat}.pkl', 'wb') as file:\n",
    "            pickle.dump(features_models, file)\n",
    "\n",
    "        res_best.append(dict({'ncol':ncol, 'col':col_target, 'thr':thr, 'thr2':thr2, \\\n",
    "                             'lenfeats':lenfeats, 'lenfeats_uncorr':lenfeats_uncorr, \\\n",
    "                             'sumones':folds_feat[col_target].sum(), 'AUC':auc, 'mlogloss':score}))\n",
    "        res_df = pd.DataFrame(res_best)\n",
    "        res_df.to_csv(output_dir / 'bayes_res_30sep_e31.csv',index=False)\n",
    "        resall_df = pd.DataFrame(res)\n",
    "        resall_df.to_csv(output_dir / 'bayes_resall_30sep_e31.csv',index=False)\n",
    "    \n",
    "        print(f'BEST {ncol+1}/{len(target_cols)}: col={col_target} thr={thr} thr2={thr2} lenfeats={lenfeats} lenfeats_uncorr={lenfeats_uncorr} sum_ones={folds_feat[col_target].sum()} AUC={auc} mlogloss={score}')\n",
    "        "
   ]
  },
  {
   "cell_type": "code",
   "execution_count": null,
   "metadata": {
    "ExecuteTime": {
     "end_time": "2020-09-30T14:35:27.389887Z",
     "start_time": "2020-09-30T14:35:27.386135Z"
    }
   },
   "outputs": [],
   "source": [
    "\n"
   ]
  },
  {
   "cell_type": "code",
   "execution_count": null,
   "metadata": {},
   "outputs": [],
   "source": []
  },
  {
   "cell_type": "code",
   "execution_count": null,
   "metadata": {},
   "outputs": [],
   "source": []
  },
  {
   "cell_type": "code",
   "execution_count": null,
   "metadata": {},
   "outputs": [],
   "source": []
  },
  {
   "cell_type": "code",
   "execution_count": null,
   "metadata": {},
   "outputs": [],
   "source": []
  },
  {
   "cell_type": "code",
   "execution_count": null,
   "metadata": {},
   "outputs": [],
   "source": []
  },
  {
   "cell_type": "code",
   "execution_count": null,
   "metadata": {},
   "outputs": [],
   "source": []
  },
  {
   "cell_type": "code",
   "execution_count": null,
   "metadata": {},
   "outputs": [],
   "source": []
  },
  {
   "cell_type": "code",
   "execution_count": null,
   "metadata": {
    "ExecuteTime": {
     "end_time": "2020-10-03T12:15:31.058182Z",
     "start_time": "2020-10-03T12:14:29.307Z"
    }
   },
   "outputs": [],
   "source": [
    "# from scipy.stats import norm\n",
    "# from sklearn.naive_bayes import ComplementNB\n",
    "# from sklearn.metrics import roc_auc_score\n",
    "# from sklearn.preprocessing import MinMaxScaler\n",
    "# from scipy.stats import ks_2samp\n",
    "# import pickle\n",
    "\n",
    "# folds_feat = folds.copy()\n",
    "# test_feat = test_noctl.copy()\n",
    "\n",
    "# folds_feat['cp_dose'] = (folds_feat['cp_dose']=='D2').astype(float)\n",
    "# folds_feat['cp_time'] /= 72.0\n",
    "\n",
    "# test_feat['cp_dose'] = (test_feat['cp_dose']=='D2').astype(float)\n",
    "# test_feat['cp_time'] /= 72.0\n",
    "\n",
    "# res = []\n",
    "# res_best = []\n",
    "# features_models = []\n",
    "# for ncol, col_target in enumerate(target_cols):\n",
    "#     pvalues = []\n",
    "#     for col_feat in GENES+CELLS:\n",
    "#         values_orig = train_noctl[col_feat].values\n",
    "#         target_orig = train_noctl[col_target].values\n",
    "#         target = target_orig[values_orig> -4]\n",
    "#         values = values_orig[values_orig> -4]\n",
    "#         positive = values[target==1]\n",
    "#         negative = values[target==0]\n",
    "#         pvalues.append(ks_2samp(positive, negative)[1])\n",
    "#     pvalues = np.array(pvalues)\n",
    "#     best_auc = 0.0\n",
    "#     best_thr = 0.0\n",
    "#     best_thr2 = 0.0\n",
    "#     best_lenfeats = 0\n",
    "#     best_lenfeats_uncorr = 0\n",
    "#     best_list_feats = []\n",
    "    \n",
    "#     for thr in [0.0001, 0.0005, 0.001, 0.005, 0.01, 0.05, 0.1, 0.2, 0.3, 0.4]:\n",
    "#         for thr2 in [0.60, 0.75, 0.80, 0.85, 0.90, 0.95]:\n",
    "#             name_feat = f'bayes{col_target}'\n",
    "#             folds_feat[name_feat] = 0.0\n",
    "#             feats_trn = np.array(GENES+CELLS)[pvalues<thr]\n",
    "#             feats_trn_uncorr = trimm_correlated(folds_feat[feats_trn], thr2)\n",
    "# #             print(len(feats_trn), len(feats_trn_uncorr))\n",
    "\n",
    "#             if len(feats_trn)>0:\n",
    "#                 for fold in range(CFG.num_folds):\n",
    "#                     X_trn = folds_feat.loc[folds_feat['kfold']!=fold, ['cp_time','cp_dose']+feats_trn_uncorr.tolist()].astype(float).values\n",
    "#                     X_fold = folds_feat.loc[folds_feat['kfold']==fold,['cp_time','cp_dose']+feats_trn_uncorr.tolist()].astype(float).values\n",
    "\n",
    "#                     scaler = MinMaxScaler()\n",
    "#                     X_trn = scaler.fit_transform(X_trn)\n",
    "#                     X_fold = scaler.transform(X_fold)\n",
    "\n",
    "#                     y = folds_feat.loc[folds_feat['kfold']!=fold, col_target].astype(float).values\n",
    "#                     model = ComplementNB()\n",
    "#                     model.fit(X_trn, y)\n",
    "#                     folds_feat.loc[folds_feat['kfold']==fold, name_feat] = model.predict(X_fold)\n",
    "\n",
    "#                 auc = roc_auc_score(folds_feat[col_target].values, folds_feat[name_feat].values)\n",
    "#                 lenfeats = len(feats_trn)\n",
    "#                 lenfeats_uncorr = len(feats_trn_uncorr)\n",
    "#                 res.append(dict({'ncol':ncol, 'col':col_target, 'thr':thr, 'thr2':thr2, \\\n",
    "#                                  'lenfeats':lenfeats, 'lenfeats_uncorr':lenfeats_uncorr, \\\n",
    "#                                  'sumones':folds_feat[col_target].sum(), 'AUC':auc}))\n",
    "# #                 print(f'{ncol+1}/{len(target_cols)}: col={col_target} thr={thr} thr2={thr2} lenfeats={lenfeats} lenfeats_uncorr={lenfeats_uncorr} sum_ones={folds_feat[col_target].sum()} AUC={auc}')\n",
    "#     #             print(f'{ncol+1}/{len(target_cols)}: col={col_target} thr={thr} lenfeats={lenfeats} sum_ones={folds_feat[col_target].sum()} AUC={auc}')\n",
    "#                 if auc>best_auc:\n",
    "#                     best_auc = auc\n",
    "#                     best_thr = thr\n",
    "#                     best_thr2 = thr2\n",
    "#                     best_lenfeats = lenfeats\n",
    "#                     best_lenfeats_uncorr = lenfeats_uncorr\n",
    "#                     preds = folds_feat[name_feat].values\n",
    "#                     best_list_feats = feats_trn_uncorr\n",
    "    \n",
    "#     # Keep best\n",
    "#     auc = best_auc\n",
    "#     thr = best_thr\n",
    "#     thr2 = best_thr2\n",
    "#     lenfeats = best_lenfeats\n",
    "#     lenfeats_uncorr = best_lenfeats_uncorr\n",
    "#     folds_feat[name_feat] = preds\n",
    "#     feats_trn_uncorr = best_list_feats\n",
    "        \n",
    "#     # With Test DB\n",
    "#     X_trn = folds_feat[feats_trn_uncorr.tolist()].astype(float).values\n",
    "#     X_test = test_feat[feats_trn_uncorr.tolist()].astype(float).values\n",
    "#     y = folds_feat[col_target].astype(float).values\n",
    "    \n",
    "#     scaler = MinMaxScaler()\n",
    "#     X_trn = scaler.fit_transform(X_trn)\n",
    "#     X_test = scaler.transform(X_test)\n",
    "    \n",
    "#     model = ComplementNB()\n",
    "#     model.fit(X_trn, y)\n",
    "#     test_feat[name_feat] = model.predict(X_test)\n",
    "    \n",
    "#     # Save models and results\n",
    "#     folds_feat.to_csv('../input/bayes_folds_feats30sep_e30.csv',index=False)\n",
    "#     test_feat.to_csv('../input/bayes_test_feats30sep_e30.csv',index=False)\n",
    "\n",
    "#     with open(output_dir / f'bayesmodel__{name_feat}__{auc:.6f}.pkl', 'wb') as file:\n",
    "#         pickle.dump(model, file)\n",
    "    \n",
    "#     features_models.append(feats_trn_uncorr.tolist())\n",
    "#     with open(output_dir / f'bayesfeats__{name_feat}.pkl', 'wb') as file:\n",
    "#         pickle.dump(features_models, file)\n",
    "        \n",
    "#     res_best.append(dict({'ncol':ncol, 'col':col_target, 'thr':thr, 'thr2':thr2, \\\n",
    "#                          'lenfeats':lenfeats, 'lenfeats_uncorr':lenfeats_uncorr, \\\n",
    "#                          'sumones':folds_feat[col_target].sum(), 'AUC':auc}))\n",
    "    \n",
    "#     res_df = pd.DataFrame(res_best)\n",
    "#     res_df.to_csv('../input/bayesres_30sep.csv',index=False)\n",
    "#     print(f'BEST {ncol+1}/{len(target_cols)}: col={col_target} thr={thr} thr2={thr2} lenfeats={lenfeats} lenfeats_uncorr={lenfeats_uncorr} sum_ones={folds_feat[col_target].sum()} AUC={auc}')"
   ]
  },
  {
   "cell_type": "raw",
   "metadata": {},
   "source": [
    "BEST 1/206: col=5-alpha_reductase_inhibitor thr=0.3 thr2=0.9 lenfeats=515 lenfeats_uncorr=486 sum_ones=17 AUC=0.8484337239523961\n",
    "BEST 2/206: col=11-beta-hsd1_inhibitor thr=0.2 thr2=0.9 lenfeats=295 lenfeats_uncorr=289 sum_ones=18 AUC=0.5797233622131023\n",
    "BEST 3/206: col=acat_inhibitor thr=0.1 thr2=0.85 lenfeats=66 lenfeats_uncorr=65 sum_ones=24 AUC=0.571782065316548\n",
    "BEST 4/206: col=acetylcholine_receptor_agonist thr=0.001 thr2=0.8 lenfeats=52 lenfeats_uncorr=50 sum_ones=190 AUC=0.6255780088146647"
   ]
  },
  {
   "cell_type": "code",
   "execution_count": null,
   "metadata": {
    "ExecuteTime": {
     "end_time": "2020-10-03T12:15:31.058964Z",
     "start_time": "2020-10-03T12:14:29.369Z"
    }
   },
   "outputs": [],
   "source": [
    "res = pd.DataFrame(res)"
   ]
  },
  {
   "cell_type": "code",
   "execution_count": null,
   "metadata": {
    "ExecuteTime": {
     "end_time": "2020-10-03T12:15:31.059674Z",
     "start_time": "2020-10-03T12:14:29.372Z"
    }
   },
   "outputs": [],
   "source": [
    "res"
   ]
  },
  {
   "cell_type": "code",
   "execution_count": null,
   "metadata": {},
   "outputs": [],
   "source": []
  },
  {
   "cell_type": "code",
   "execution_count": null,
   "metadata": {},
   "outputs": [],
   "source": []
  },
  {
   "cell_type": "code",
   "execution_count": null,
   "metadata": {},
   "outputs": [],
   "source": []
  },
  {
   "cell_type": "code",
   "execution_count": null,
   "metadata": {
    "ExecuteTime": {
     "end_time": "2020-10-03T12:15:31.060645Z",
     "start_time": "2020-10-03T12:14:29.383Z"
    }
   },
   "outputs": [],
   "source": [
    "        \n",
    "#         prob_pos = norm.pdf(values_orig, np.mean(positive), np.std(positive))\n",
    "#         prob_neg = norm.pdf(values_orig, np.mean(negative), np.std(negative))\n",
    "#         pvalue_probs = ks_2samp(prob_pos, prob_neg)[1]\n",
    "#         df = pd.DataFrame({'target':target_orig, 'diff':prob_pos-prob_neg})\n",
    "#         ax = sns.boxplot(x='target', y='diff', data=df)\n",
    "#         plt.title(f'feat={col_feat} target={col_target}) n1s={np.sum(target_orig==1)} pv_negpos={pvalue_neg_pos:.6f}')\n",
    "#         plt.show()\n",
    "        \n",
    "#         q25_pos = np.quantile(prob_pos, q=0.25)\n",
    "#         q75_pos = np.quantile(prob_pos, q=0.75)\n",
    "#         q25_neg = np.quantile(prob_neg, q=0.25)\n",
    "#         q75_neg = np.quantile(prob_neg, q=0.75)\n",
    "    \n",
    "    \n",
    "#     name_feat = f'bayes{col_target}'\n",
    "#     folds_feat[name_feat] = 0.0\n",
    "#     for fold in range(CFG.num_folds):\n",
    "#         X_trn = folds_feat.loc[folds_feat['kfold']!=fold, GENES+CELLS].astype(float).values\n",
    "#         X_fold = folds_feat.loc[folds_feat['kfold']==fold,GENES+CELLS].astype(float).values\n",
    "#         scaler = MinMaxScaler()\n",
    "        \n",
    "#         X_trn = scaler.fit_transform(X_trn)\n",
    "#         X_fold = scaler.transform(X_fold)\n",
    "        \n",
    "#         y = folds_feat.loc[folds_feat['kfold']!=fold, col_target].astype(float).values\n",
    "#         model = ComplementNB()\n",
    "#         model.fit(X_trn, y)\n",
    "#         folds_feat.loc[folds_feat['kfold']==fold, name_feat] = model.predict(X_fold)\n",
    "    \n",
    "#     auc = roc_auc_score(folds_feat[col_target].values, folds_feat[name_feat].values)\n",
    "#     res.append(dict({'ncol':ncol, 'col':col_target, 'sumones':folds_feat[col_target].sum(), 'AUC':auc}))\n",
    "#     print(f'{ncol+1}/{len(target_cols)}: col={col_target} sum_ones={folds_feat[col_target].sum()} AUC={auc}')\n",
    "    \n",
    "# res = pd.DataFrame(res)\n",
    "#             if auc>best_auc:\n",
    "#                 best_auc = auc\n",
    "#                 best_alpha = alpha\n",
    "#                 preds = folds_feat.loc[f'{name_feat}_{col}']"
   ]
  },
  {
   "cell_type": "code",
   "execution_count": null,
   "metadata": {},
   "outputs": [],
   "source": []
  },
  {
   "cell_type": "code",
   "execution_count": null,
   "metadata": {},
   "outputs": [],
   "source": []
  },
  {
   "cell_type": "code",
   "execution_count": null,
   "metadata": {},
   "outputs": [],
   "source": []
  },
  {
   "cell_type": "code",
   "execution_count": null,
   "metadata": {},
   "outputs": [],
   "source": []
  },
  {
   "cell_type": "code",
   "execution_count": null,
   "metadata": {},
   "outputs": [],
   "source": []
  },
  {
   "cell_type": "code",
   "execution_count": null,
   "metadata": {
    "ExecuteTime": {
     "end_time": "2020-10-03T12:15:31.061546Z",
     "start_time": "2020-10-03T12:14:29.399Z"
    }
   },
   "outputs": [],
   "source": [
    "from scipy.stats import norm\n",
    "from sklearn.naive_bayes import ComplementNB\n",
    "from sklearn.metrics import roc_auc_score\n",
    "from sklearn.preprocessing import MinMaxScaler\n",
    "from scipy.stats import ks_2samp\n",
    "folds_feat = folds.copy()\n",
    "test_noctl_feat = test_noctl.copy()\n",
    "res = []\n",
    "for ncol, col_target in enumerate(target_cols):\n",
    "    pvalues = []\n",
    "    for col_feat in GENES+CELLS:\n",
    "        values_orig = train_noctl[col_feat].values\n",
    "        target_orig = train_noctl[col_target].values\n",
    "        target = target_orig[values_orig> -4]\n",
    "        values = values_orig[values_orig> -4]\n",
    "        positive = values[target==1]\n",
    "        negative = values[target==0]\n",
    "        pvalues.append(ks_2samp(positive, negative)[1])\n",
    "    pvalues = np.array(pvalues)\n",
    "    best_auc = 0.0\n",
    "    best_thr = 0.0\n",
    "    best_lenfeats = 0\n",
    "    for thr in [0.0001, 0.0005, 0.001, 0.005, 0.01, 0.05, 0.1, 0.2, 0.3]:\n",
    "        name_feat = f'bayes{col_target}'\n",
    "        folds_feat[name_feat] = 0.0\n",
    "        feats_trn = np.array(GENES+CELLS)[pvalues<thr]\n",
    "        if len(feats_trn)>0:\n",
    "            for fold in range(CFG.num_folds):\n",
    "                X_trn = folds_feat.loc[folds_feat['kfold']!=fold, feats_trn].astype(float).values\n",
    "                X_fold = folds_feat.loc[folds_feat['kfold']==fold,feats_trn].astype(float).values\n",
    "\n",
    "                scaler = MinMaxScaler()\n",
    "                X_trn = scaler.fit_transform(X_trn)\n",
    "                X_fold = scaler.transform(X_fold)\n",
    "\n",
    "                y = folds_feat.loc[folds_feat['kfold']!=fold, col_target].astype(float).values\n",
    "                model = ComplementNB()\n",
    "                model.fit(X_trn, y)\n",
    "                folds_feat.loc[folds_feat['kfold']==fold, name_feat] = model.predict(X_fold)\n",
    "\n",
    "            auc = roc_auc_score(folds_feat[col_target].values, folds_feat[name_feat].values)\n",
    "            lenfeats = len(feats_trn)\n",
    "            res.append(dict({'ncol':ncol, 'col':col_target, 'sumones':folds_feat[col_target].sum(), 'AUC':auc}))\n",
    "#             print(f'{ncol+1}/{len(target_cols)}: col={col_target} thr={thr} lenfeats={lenfeats} sum_ones={folds_feat[col_target].sum()} AUC={auc}')\n",
    "            if auc>best_auc:\n",
    "                best_auc = auc\n",
    "                best_thr = thr\n",
    "                best_lenfeats = lenfeats\n",
    "                preds = folds_feat[name_feat].values\n",
    "    # Keep best\n",
    "    auc = best_auc\n",
    "    thr = best_thr\n",
    "    lenfeats = best_lenfeats\n",
    "    folds_feat[name_feat] = preds\n",
    "    print(f'BEST {ncol+1}/{len(target_cols)}: col={col_target} thr={thr} lenfeats={lenfeats} sum_ones={folds_feat[col_target].sum()} AUC={auc}')\n",
    "        \n",
    "#         prob_pos = norm.pdf(values_orig, np.mean(positive), np.std(positive))\n",
    "#         prob_neg = norm.pdf(values_orig, np.mean(negative), np.std(negative))\n",
    "#         pvalue_probs = ks_2samp(prob_pos, prob_neg)[1]\n",
    "#         df = pd.DataFrame({'target':target_orig, 'diff':prob_pos-prob_neg})\n",
    "#         ax = sns.boxplot(x='target', y='diff', data=df)\n",
    "#         plt.title(f'feat={col_feat} target={col_target}) n1s={np.sum(target_orig==1)} pv_negpos={pvalue_neg_pos:.6f}')\n",
    "#         plt.show()\n",
    "        \n",
    "#         q25_pos = np.quantile(prob_pos, q=0.25)\n",
    "#         q75_pos = np.quantile(prob_pos, q=0.75)\n",
    "#         q25_neg = np.quantile(prob_neg, q=0.25)\n",
    "#         q75_neg = np.quantile(prob_neg, q=0.75)\n",
    "    \n",
    "    \n",
    "#     name_feat = f'bayes{col_target}'\n",
    "#     folds_feat[name_feat] = 0.0\n",
    "#     for fold in range(CFG.num_folds):\n",
    "#         X_trn = folds_feat.loc[folds_feat['kfold']!=fold, GENES+CELLS].astype(float).values\n",
    "#         X_fold = folds_feat.loc[folds_feat['kfold']==fold,GENES+CELLS].astype(float).values\n",
    "#         scaler = MinMaxScaler()\n",
    "        \n",
    "#         X_trn = scaler.fit_transform(X_trn)\n",
    "#         X_fold = scaler.transform(X_fold)\n",
    "        \n",
    "#         y = folds_feat.loc[folds_feat['kfold']!=fold, col_target].astype(float).values\n",
    "#         model = ComplementNB()\n",
    "#         model.fit(X_trn, y)\n",
    "#         folds_feat.loc[folds_feat['kfold']==fold, name_feat] = model.predict(X_fold)\n",
    "    \n",
    "#     auc = roc_auc_score(folds_feat[col_target].values, folds_feat[name_feat].values)\n",
    "#     res.append(dict({'ncol':ncol, 'col':col_target, 'sumones':folds_feat[col_target].sum(), 'AUC':auc}))\n",
    "#     print(f'{ncol+1}/{len(target_cols)}: col={col_target} sum_ones={folds_feat[col_target].sum()} AUC={auc}')\n",
    "    \n",
    "# res = pd.DataFrame(res)\n",
    "#             if auc>best_auc:\n",
    "#                 best_auc = auc\n",
    "#                 best_alpha = alpha\n",
    "#                 preds = folds_feat.loc[f'{name_feat}_{col}']\n",
    "\n"
   ]
  },
  {
   "cell_type": "code",
   "execution_count": null,
   "metadata": {},
   "outputs": [],
   "source": []
  },
  {
   "cell_type": "code",
   "execution_count": null,
   "metadata": {},
   "outputs": [],
   "source": []
  },
  {
   "cell_type": "code",
   "execution_count": null,
   "metadata": {},
   "outputs": [],
   "source": []
  },
  {
   "cell_type": "code",
   "execution_count": null,
   "metadata": {
    "ExecuteTime": {
     "end_time": "2020-10-03T12:15:31.062297Z",
     "start_time": "2020-10-03T12:14:29.407Z"
    }
   },
   "outputs": [],
   "source": [
    "from scipy.stats import norm\n",
    "from sklearn.naive_bayes import GaussianNB\n",
    "from sklearn.metrics import roc_auc_score\n",
    "from sklearn.preprocessing import StandardScaler\n",
    "folds_feat = folds.copy()\n",
    "test_noctl_feat = test_noctl.copy()\n",
    "res = []\n",
    "for ncol, col_target in enumerate(target_cols):\n",
    "    name_feat = f'bayes{col_target}'\n",
    "    folds_feat[name_feat] = 0.0\n",
    "    for fold in range(CFG.num_folds):\n",
    "        X_trn = folds_feat.loc[folds_feat['kfold']!=fold, GENES+CELLS].astype(float).values\n",
    "        X_fold = folds_feat.loc[folds_feat['kfold']==fold,GENES+CELLS].astype(float).values\n",
    "        scaler = StandardScaler()\n",
    "        \n",
    "        X_trn = scaler.fit_transform(X_trn)\n",
    "        X_test = scaler.transform(X_test)\n",
    "        \n",
    "        y = folds_feat.loc[folds_feat['kfold']!=fold, col_target].astype(float).values\n",
    "        model = GaussianNB()\n",
    "        model.fit(X_trn, y)\n",
    "        folds_feat.loc[folds_feat['kfold']==fold, name_feat] = model.predict(X_fold)\n",
    "    \n",
    "    auc = roc_auc_score(folds_feat[col_target].values, folds_feat[name_feat].values)\n",
    "    res.append(dict({'ncol':ncol, 'col':col_target, 'sumones':folds_feat[col_target].sum(), 'AUC':auc}))\n",
    "    print(f'{ncol+1}/{len(target_cols)}: col={col_target} sum_ones={folds_feat[col_target].sum()} AUC={auc}')\n",
    "    \n",
    "res = pd.DataFrame(res)\n",
    "#             if auc>best_auc:\n",
    "#                 best_auc = auc\n",
    "#                 best_alpha = alpha\n",
    "#                 preds = folds_feat.loc[f'{name_feat}_{col}']\n",
    "\n",
    "\n",
    "        \n",
    "        \n",
    "        \n",
    "        "
   ]
  },
  {
   "cell_type": "code",
   "execution_count": null,
   "metadata": {},
   "outputs": [],
   "source": []
  },
  {
   "cell_type": "code",
   "execution_count": null,
   "metadata": {
    "ExecuteTime": {
     "end_time": "2020-10-03T12:15:31.063069Z",
     "start_time": "2020-10-03T12:14:29.411Z"
    }
   },
   "outputs": [],
   "source": [
    "from scipy.stats import norm\n",
    "folds_feat = folds.copy()\n",
    "test_noctl_feat = test_noctl.copy()\n",
    "for col1 in tqdm(CELLS+GENES):\n",
    "    values_orig = train_noctl[col1].values\n",
    "    target_orig = train_noctl[col2].values\n",
    "    target = target_orig[values_orig> -4]\n",
    "    values = values_orig[values_orig> -4]\n",
    "    positive = values[target==1]\n",
    "    negative = values[target==0]\n",
    "    prob_pos = norm.pdf(values_orig, np.mean(positive), np.std(positive))\n",
    "    prob_neg = norm.pdf(values_orig, np.mean(negative), np.std(negative))\n",
    "        \n",
    "    for col2 in target_cols:\n",
    "        name_feat = f'diffprob_{col1}_{col2}'\n",
    "        folds_feat[name_feat] = 0.0\n",
    "        for fold in range(CFG.num_folds):\n",
    "            X_trn = folds_feat.loc[folds_feat['kfold']!=fold, [col1, col2]]\n",
    "            X_fold = folds_feat.loc[folds_feat['kfold']==fold, [col1, col2]]\n",
    "            values_orig = X_trn[col1].values\n",
    "            target_orig = X_trn[col2].values\n",
    "            \n",
    "            \n",
    "            \n",
    "            target = target_orig[values_orig> -4]\n",
    "            values = values_orig[values_orig> -4]\n",
    "            positive = values[target==1]\n",
    "            negative = values[target==0]\n",
    "            \n",
    "            values_fold = X_fold[col1].values\n",
    "            prob_pos = norm.pdf(values_fold, np.mean(positive), np.std(positive))\n",
    "            prob_neg = norm.pdf(values_fold, np.mean(negative), np.std(negative))\n",
    "            folds_feat.loc[folds_feat['kfold']==fold, name_feat] = prob_pos-prob_neg\n",
    "            \n",
    "        # For test    \n",
    "        X_trn = folds_feat[[col1, col2]]\n",
    "        X_test = test_noctl_feat[[col1]]\n",
    "        values_orig = X_trn[col1].values\n",
    "        target_orig = X_trn[col2].values\n",
    "        target = target_orig[values_orig> -4]\n",
    "        values = values_orig[values_orig> -4]\n",
    "        positive = values[target==1]\n",
    "        negative = values[target==0]\n",
    "\n",
    "        values_test = X_test[col1].values\n",
    "        prob_pos = norm.pdf(values_test, np.mean(positive), np.std(positive))\n",
    "        prob_neg = norm.pdf(values_test, np.mean(negative), np.std(negative)) \n",
    "        test_noctl_feat[name_feat] = prob_pos-prob_neg        "
   ]
  },
  {
   "cell_type": "code",
   "execution_count": null,
   "metadata": {},
   "outputs": [],
   "source": []
  },
  {
   "cell_type": "code",
   "execution_count": null,
   "metadata": {},
   "outputs": [],
   "source": []
  },
  {
   "cell_type": "code",
   "execution_count": null,
   "metadata": {},
   "outputs": [],
   "source": []
  },
  {
   "cell_type": "code",
   "execution_count": null,
   "metadata": {},
   "outputs": [],
   "source": []
  },
  {
   "cell_type": "code",
   "execution_count": null,
   "metadata": {
    "ExecuteTime": {
     "end_time": "2020-10-03T12:15:31.063969Z",
     "start_time": "2020-10-03T12:14:29.420Z"
    }
   },
   "outputs": [],
   "source": [
    "def prob_reordered(train, validation, by = ['product_id'], weight=10):\n",
    "    target_mean = train['deal_probability'].mean()\n",
    "    c = (train[['deal_probability'] + by]).groupby(by).agg(['sum','count'])\n",
    "    s = c[('deal_probability','sum')]\n",
    "    n = c[('deal_probability','count')]\n",
    "    prob = (s + target_mean*weight) / (n + weight)\n",
    "    prob=prob.reset_index().rename(columns={0: 'prob_'+'_'.join(by)})\n",
    "    validation = pd.merge(validation, prob, on=by, how='left').reset_index(drop=True)\n",
    "    validation.fillna(target_mean, inplace=True)\n",
    "    return validation\n",
    "\n",
    "\n",
    "col1 = CELLS[2]\n",
    "col2 = target_cols[2]\n",
    "df_train = folds.loc[folds['kfold']!=0,[col1,col2]].reset_index(drop=True)\n",
    "df_val = folds.loc[folds['kfold']==0,[col1,col2]].reset_index(drop=True)\n",
    "target_mean = train['deal_probability'].mean()\n",
    "\n",
    "df.head()"
   ]
  },
  {
   "cell_type": "code",
   "execution_count": null,
   "metadata": {
    "ExecuteTime": {
     "end_time": "2020-10-03T12:15:31.064673Z",
     "start_time": "2020-10-03T12:14:29.423Z"
    }
   },
   "outputs": [],
   "source": [
    "train_noctl[target_cols].sum(axis=0).sort_values()"
   ]
  },
  {
   "cell_type": "code",
   "execution_count": null,
   "metadata": {
    "ExecuteTime": {
     "end_time": "2020-10-03T12:15:31.065431Z",
     "start_time": "2020-10-03T12:14:29.428Z"
    }
   },
   "outputs": [],
   "source": [
    "\n",
    "x = np.linspace(-4,4,100)\n",
    "norm.pdf(x, -10, 5)"
   ]
  },
  {
   "cell_type": "code",
   "execution_count": null,
   "metadata": {
    "ExecuteTime": {
     "end_time": "2020-10-03T12:15:31.066194Z",
     "start_time": "2020-10-03T12:14:29.430Z"
    }
   },
   "outputs": [],
   "source": [
    "plt.plot(x)"
   ]
  },
  {
   "cell_type": "code",
   "execution_count": null,
   "metadata": {
    "ExecuteTime": {
     "end_time": "2020-10-03T12:15:31.066899Z",
     "start_time": "2020-10-03T12:14:29.433Z"
    }
   },
   "outputs": [],
   "source": [
    "np.sum(target==0)"
   ]
  },
  {
   "cell_type": "code",
   "execution_count": null,
   "metadata": {
    "ExecuteTime": {
     "end_time": "2020-10-03T12:15:31.067753Z",
     "start_time": "2020-10-03T12:14:29.436Z"
    }
   },
   "outputs": [],
   "source": [
    "from scipy.stats import norm\n",
    "def mean_sd_with_weigths(values, by, weigth=5):\n",
    "    mean_v = np.mean(values)\n",
    "    len_values = len(values[by])\n",
    "    mean_w = (np.sum(values[by])+mean_v*weigth)/(len_values+weigth)\n",
    "    \n",
    "    std_v = np.std(values)\n",
    "    std_w = np.sqrt((np.sum((values[by]-mean_w)**2)+std_v*weigth)/(len_values+weigth))\n",
    "    \n",
    "    return np.mean(values[by]), np.std(values[by])\n",
    "#     return mean_w, std_w\n",
    "\n",
    "\n",
    "def prob_norm(val, mean, std):\n",
    "    return np.exp(-0.5*((val-mean)/std)**2)/(std*np.sqrt(2*np.pi))\n",
    "\n",
    "for col2 in target_cols[:1]:\n",
    "    for col1 in CELLS[:100]:\n",
    "        values_orig = train_noctl[col1].values\n",
    "        target_orig = train_noctl[col2].values\n",
    "        target = target_orig[values_orig> -4]\n",
    "        values = values_orig[values_orig> -4]\n",
    "        positive = values[target==1]\n",
    "        negative = values[target==0]\n",
    "        prob_pos = norm.pdf(values_orig, np.mean(positive), np.std(positive))\n",
    "        prob_neg = norm.pdf(values_orig, np.mean(negative), np.std(negative))\n",
    "        df = pd.DataFrame({'target':target_orig, 'diff':prob_pos-prob_neg})\n",
    "        ax = sns.boxplot(x='target', y='diff', data=df)\n",
    "        \n",
    "        \n",
    "#         x = np.linspace(-4,4,100)\n",
    "#         meanw1, stdw1 = mean_sd_with_weigths(values, target==1)\n",
    "#         meanw0, stdw0 = mean_sd_with_weigths(values, target==0)\n",
    "#         print(meanw1, stdw1, meanw0, stdw0)\n",
    "#         sns.kdeplot(positive, label=f'{col2}_1s',cumulative=False)\n",
    "#         sns.kdeplot(negative, label=f'{col2}_0s',cumulative=False)\n",
    "#         plt.plot(np.sort(positive), norm.pdf(np.sort(positive), np.mean(positive), np.std(positive)), '.b-')\n",
    "#         plt.plot(np.sort(negative), norm.pdf(np.sort(negative), np.mean(negative), np.std(negative)), '.r-')\n",
    "        \n",
    "        \n",
    "        \n",
    "        \n",
    "#         plt.plot(x, norm.pdf(x, meanw0, stdw0), '.g-')\n",
    "        \n",
    "#         plt.plot(x, norm.pdf(x, meanw1, stdw1), '.b-')\n",
    "#         plt.plot(x, norm.pdf(x, meanw0, stdw0), '.g-')\n",
    "#         plt.legend('upper left')\n",
    "        plt.title(f'{col1} {col2} num_1s={np.sum(target==1)}')\n",
    "\n",
    "#         plt.title(f'{col1} 1s({(train_noctl[col2]>0.50).sum()}) \\ \n",
    "#     {(train_noctl.loc[train_noctl[col2]>0.50,col1]).mean():.3f} \\\n",
    "#     0s({(train_noctl[col2]>0.50).sum()})\\\n",
    "#     {(train_noctl.loc[train_noctl[col2]<0.50,col1]).mean():.3f}')\n",
    "        plt.show()\n",
    "        \n"
   ]
  },
  {
   "cell_type": "code",
   "execution_count": null,
   "metadata": {
    "ExecuteTime": {
     "end_time": "2020-10-03T12:15:31.068469Z",
     "start_time": "2020-10-03T12:14:29.438Z"
    }
   },
   "outputs": [],
   "source": [
    "for col1 in CELLS[:1]:\n",
    "    for col2 in target_cols[:100]:\n",
    "        positive = train_noctl.loc[train_noctl[col2]>0.50,col1].values\n",
    "        negative = train_noctl.loc[train_noctl[col2]<0.50,col1].values\n",
    "        positive = positive[positive> -4]\n",
    "        negative = negative[negative> -4]\n",
    "        \n",
    "        \n",
    "        \n",
    "#         x = sns.kdeplot(, label=f'{col2}_1s',cumulative=False)\n",
    "#         sns.kdeplot(train_noctl.loc[train_noctl[col2]<0.50,col1], label=f'{col2}_0s',cumulative=False)\n",
    "        sns.kdeplot(positive, label=f'{col2}_1s',cumulative=False)\n",
    "        sns.kdeplot(negative, label=f'{col2}_0s',cumulative=False)\n",
    "        \n",
    "    \n",
    "        plt.title(f'{col1} 1s({(train_noctl[col2]>0.50).sum()}) \\\n",
    "        {(train_noctl.loc[train_noctl[col2]>0.50,col1]).mean():.3f} \\\n",
    "        0s({(train_noctl[col2]>0.50).sum()})\\\n",
    "        {(train_noctl.loc[train_noctl[col2]<0.50,col1]).mean():.3f}')\n",
    "        plt.show()\n",
    "        \n",
    "        \n",
    "#         x = sns.kdeplot(train_ctl[col], label='trn_ctl',cumulative=False)\n",
    "#         sns.kdeplot(train_noctl[col], label='trn_noctl',cumulative=False)\n",
    "#         sns.kdeplot(test_ctl[col], label='tst_ctl',cumulative=False)\n",
    "#         sns.kdeplot(test_noctl[col], label='tst_noctl',cumulative=False)\n",
    "#     plt.show()"
   ]
  },
  {
   "cell_type": "markdown",
   "metadata": {},
   "source": [
    "### Features Basic Statistics"
   ]
  },
  {
   "cell_type": "code",
   "execution_count": null,
   "metadata": {
    "ExecuteTime": {
     "end_time": "2020-10-03T12:15:31.069201Z",
     "start_time": "2020-10-03T12:14:29.441Z"
    }
   },
   "outputs": [],
   "source": [
    "for (cetiq, cols) in [['G',CELLS],['C', GENES]]:\n",
    "    for (fetiq, func) in [['mean', np.mean]]: #,['min', np.min], ['max', np.max]]:\n",
    "        name = f'{cetiq}_{fetiq}'\n",
    "        print(name)\n",
    "        folds[name] = folds[cols].apply(lambda x: func(x), axis=1).values\n",
    "        test_noctl[name] = test_noctl[cols].apply(lambda x: func(x), axis=1).values\n",
    "print(folds.shape, test_noctl.shape)\n",
    "\n",
    "# NO stats BEST: pca_comp_genes=30 pca_comp_cells=18 Local=0.014694 LB=0.01872\n",
    "# Mean Local=0.014702\n",
    "\n"
   ]
  },
  {
   "cell_type": "code",
   "execution_count": null,
   "metadata": {},
   "outputs": [],
   "source": []
  },
  {
   "cell_type": "markdown",
   "metadata": {},
   "source": [
    "### PCA Features"
   ]
  },
  {
   "cell_type": "code",
   "execution_count": null,
   "metadata": {
    "ExecuteTime": {
     "end_time": "2020-10-03T12:15:31.070050Z",
     "start_time": "2020-10-03T12:14:29.445Z"
    }
   },
   "outputs": [],
   "source": [
    "if CFG.use_pca:\n",
    "    etiq = ['G','C']\n",
    "    num_pca = [CFG.pca_comp_genes, CFG.pca_comp_cells]\n",
    "    for niter, cols in enumerate([GENES, CELLS]):\n",
    "        # PCA for train with folds\n",
    "        train_pca = []\n",
    "        train_pca_sig_id = []\n",
    "        num_comp = num_pca[niter]\n",
    "        columns_pca = [f'pca_{etiq[niter]}-{i}' for i in range(num_comp)]\n",
    "        numeric_cols += columns_pca\n",
    "        for fold in tqdm(range(CFG.num_folds)):\n",
    "            pca = PCA(n_components=num_comp, random_state=42).fit(folds.loc[folds['kfold']!=fold, cols])\n",
    "            train_pca.append(pca.transform(folds.loc[folds['kfold']==fold, cols]))\n",
    "            train_pca_sig_id.append(folds.loc[folds['kfold']==fold, 'sig_id'])\n",
    "        train_pca = np.concatenate(train_pca)\n",
    "        train_pca = pd.DataFrame(train_pca, columns=columns_pca)\n",
    "        train_pca['sig_id'] = np.concatenate(train_pca_sig_id)\n",
    "        folds = pd.merge(folds, train_pca, on='sig_id')\n",
    "\n",
    "        # PCA for test\n",
    "        pca = PCA(n_components=num_comp, random_state=42).fit(folds[cols])\n",
    "        test_pca = pca.transform(test_noctl[cols])\n",
    "        test_pca = pd.DataFrame(test_pca, columns=columns_pca)\n",
    "        test_noctl = pd.concat((test_noctl, test_pca), axis=1)\n",
    "        print(folds.shape, test_noctl.shape)\n",
    "        \n",
    "#     data2 = (PCA(n_components=CFG.pca_comp_genes, random_state=42).fit_transform(data[GENES]))\n",
    "#     train2 = data2[:train_features.shape[0]]; test2 = data2[-test_features.shape[0]:]\n",
    "\n",
    "#     train2 = pd.DataFrame(train2, columns=[f'pca_G-{i}' for i in range(CFG.pca_comp_genes)])\n",
    "#     test2 = pd.DataFrame(test2, columns=[f'pca_G-{i}' for i in range(CFG.pca_comp_genes)])\n",
    "\n",
    "#     train_features = pd.concat((train_features, train2), axis=1)\n",
    "#     test_features = pd.concat((test_features, test2), axis=1)\n",
    "#     print(train_features.shape, test_features.shape)\n",
    "    \n",
    "#     #CELLS\n",
    "#     data = pd.concat([pd.DataFrame(train_features[CELLS]), pd.DataFrame(test_features[CELLS])])\n",
    "#     data2 = (PCA(n_components=CFG.pca_comp_cells, random_state=42).fit_transform(data[CELLS]))\n",
    "#     train2 = data2[:train_features.shape[0]]; test2 = data2[-test_features.shape[0]:]\n",
    "\n",
    "#     train2 = pd.DataFrame(train2, columns=[f'pca_C-{i}' for i in range(CFG.pca_comp_cells)])\n",
    "#     test2 = pd.DataFrame(test2, columns=[f'pca_C-{i}' for i in range(CFG.pca_comp_cells)])\n",
    "    \n",
    "#     train_features = pd.concat((train_features, train2), axis=1)\n",
    "#     test_features = pd.concat((test_features, test2), axis=1)\n",
    "#     print(train_features.shape, test_features.shape)\n",
    "    "
   ]
  },
  {
   "cell_type": "markdown",
   "metadata": {},
   "source": [
    "### Feature Selection using Variance Encoding\n"
   ]
  },
  {
   "cell_type": "code",
   "execution_count": null,
   "metadata": {
    "ExecuteTime": {
     "end_time": "2020-10-03T12:15:31.070801Z",
     "start_time": "2020-10-03T12:14:29.448Z"
    }
   },
   "outputs": [],
   "source": [
    "if CFG.variance_enc:\n",
    "    var_thresh = VarianceThreshold(threshold=CFG.variance_thres)\n",
    "    selected_cols = np.array(numeric_cols)[var_thresh.fit(folds[numeric_cols]).get_support(True)].tolist()\n",
    "    \n",
    "    folds = folds[['sig_id','cp_time','cp_dose','kfold']+selected_cols+target_cols]\n",
    "    test_noctl = test_noctl[['sig_id','cp_time','cp_dose']+selected_cols]\n",
    "    print(folds.shape, test_noctl.shape)"
   ]
  },
  {
   "cell_type": "markdown",
   "metadata": {},
   "source": [
    "### Training Functions"
   ]
  },
  {
   "cell_type": "code",
   "execution_count": null,
   "metadata": {
    "ExecuteTime": {
     "end_time": "2020-10-03T12:15:31.071679Z",
     "start_time": "2020-10-03T12:14:29.451Z"
    }
   },
   "outputs": [],
   "source": [
    "class MoADataset:\n",
    "    def __init__(self, features, targets):\n",
    "        self.features = features\n",
    "        self.targets = targets\n",
    "        \n",
    "    def __len__(self):\n",
    "        return (self.features.shape[0])\n",
    "    \n",
    "    def __getitem__(self, idx):\n",
    "        dct = {\n",
    "            'x' : torch.tensor(self.features[idx, :], dtype=torch.float),\n",
    "            'y' : torch.tensor(self.targets[idx, :], dtype=torch.float)            \n",
    "        }\n",
    "        return dct\n",
    "    \n",
    "class TestDataset:\n",
    "    def __init__(self, features):\n",
    "        self.features = features\n",
    "        \n",
    "    def __len__(self):\n",
    "        return (self.features.shape[0])\n",
    "    \n",
    "    def __getitem__(self, idx):\n",
    "        dct = {\n",
    "            'x' : torch.tensor(self.features[idx, :], dtype=torch.float)\n",
    "        }\n",
    "        return dct\n",
    "    "
   ]
  },
  {
   "cell_type": "code",
   "execution_count": null,
   "metadata": {
    "ExecuteTime": {
     "end_time": "2020-10-03T12:15:31.072369Z",
     "start_time": "2020-10-03T12:14:29.454Z"
    }
   },
   "outputs": [],
   "source": [
    "def train_fn(model, optimizer, scheduler, loss_fn, dataloader, device):\n",
    "    model.train()\n",
    "    final_loss = 0\n",
    "    \n",
    "    for data in dataloader:\n",
    "        optimizer.zero_grad()\n",
    "        inputs, targets = data['x'].to(device), data['y'].to(device)\n",
    "#         print(inputs.shape)\n",
    "        outputs = model(inputs)\n",
    "        loss = loss_fn(outputs, targets)\n",
    "        loss.backward()\n",
    "        optimizer.step()\n",
    "        scheduler.step()\n",
    "        \n",
    "        final_loss += loss.item()\n",
    "        \n",
    "    final_loss /= len(dataloader)\n",
    "    \n",
    "    return final_loss\n",
    "\n",
    "\n",
    "def valid_fn(model, loss_fn, dataloader, device):\n",
    "    model.eval()\n",
    "    final_loss = 0\n",
    "    valid_preds = []\n",
    "    \n",
    "    for data in dataloader:\n",
    "        inputs, targets = data['x'].to(device), data['y'].to(device)\n",
    "        outputs = model(inputs)\n",
    "        loss = loss_fn(outputs, targets)\n",
    "        \n",
    "        final_loss += loss.item()\n",
    "        valid_preds.append(outputs.sigmoid().detach().cpu().numpy())\n",
    "        \n",
    "    final_loss /= len(dataloader)\n",
    "    valid_preds = np.concatenate(valid_preds)\n",
    "    \n",
    "    return final_loss, valid_preds\n",
    "\n",
    "def inference_fn(model, dataloader, device):\n",
    "    model.eval()\n",
    "    preds = []\n",
    "    \n",
    "    for data in dataloader:\n",
    "        inputs = data['x'].to(device)\n",
    "\n",
    "        with torch.no_grad():\n",
    "            outputs = model(inputs)\n",
    "        \n",
    "        preds.append(outputs.sigmoid().detach().cpu().numpy())\n",
    "        \n",
    "    preds = np.concatenate(preds)\n",
    "    \n",
    "    return preds"
   ]
  },
  {
   "cell_type": "markdown",
   "metadata": {},
   "source": [
    "### Model"
   ]
  },
  {
   "cell_type": "code",
   "execution_count": null,
   "metadata": {
    "ExecuteTime": {
     "end_time": "2020-10-03T12:15:31.073077Z",
     "start_time": "2020-10-03T12:14:29.457Z"
    }
   },
   "outputs": [],
   "source": [
    "class Model(nn.Module):\n",
    "    def __init__(self, num_features, num_targets, hidden_size):\n",
    "        super(Model, self).__init__()\n",
    "        self.batch_norm1 = nn.BatchNorm1d(num_features)\n",
    "        self.dropout1 = nn.Dropout(0.2)\n",
    "        self.dense1 = nn.utils.weight_norm(nn.Linear(num_features, hidden_size))\n",
    "        \n",
    "        self.batch_norm2 = nn.BatchNorm1d(hidden_size)\n",
    "        self.dropout2 = nn.Dropout(0.5)\n",
    "        self.dense2 = nn.utils.weight_norm(nn.Linear(hidden_size, hidden_size))\n",
    "        \n",
    "        self.batch_norm3 = nn.BatchNorm1d(hidden_size)\n",
    "        self.dropout3 = nn.Dropout(0.5)\n",
    "        self.dense3 = nn.utils.weight_norm(nn.Linear(hidden_size, num_targets))\n",
    "    \n",
    "    def forward(self, x):\n",
    "        x = self.batch_norm1(x)\n",
    "        x = self.dropout1(x)\n",
    "        x = F.relu(self.dense1(x))\n",
    "        \n",
    "        x = self.batch_norm2(x)\n",
    "        x = self.dropout2(x)\n",
    "        x = F.relu(self.dense2(x))\n",
    "        \n",
    "        x = self.batch_norm3(x)\n",
    "        x = self.dropout3(x)\n",
    "        x = self.dense3(x)\n",
    "        \n",
    "        return x"
   ]
  },
  {
   "cell_type": "markdown",
   "metadata": {},
   "source": [
    "### Preprocessing Steps"
   ]
  },
  {
   "cell_type": "code",
   "execution_count": null,
   "metadata": {
    "ExecuteTime": {
     "end_time": "2020-10-03T12:15:31.075008Z",
     "start_time": "2020-10-03T12:14:29.460Z"
    }
   },
   "outputs": [],
   "source": [
    "def process_data(data):\n",
    "    \n",
    "    data = pd.get_dummies(data, columns=['cp_time','cp_dose'])\n",
    "#     data.loc[:, 'cp_time'] = data.loc[:, 'cp_time'].map({24: 0, 48: 1, 72: 2})\n",
    "#     data.loc[:, 'cp_dose'] = data.loc[:, 'cp_dose'].map({'D1': 0, 'D2': 1})\n",
    "\n",
    "# --------------------- Normalize ---------------------\n",
    "#     for col in GENES:\n",
    "#         data[col] = (data[col]-np.mean(data[col])) / (np.std(data[col]))\n",
    "    \n",
    "#     for col in CELLS:\n",
    "#         data[col] = (data[col]-np.mean(data[col])) / (np.std(data[col]))\n",
    "    \n",
    "#--------------------- Removing Skewness ---------------------\n",
    "#     for col in GENES + CELLS:\n",
    "#         if(abs(data[col].skew()) > 0.75):\n",
    "            \n",
    "#             if(data[col].skew() < 0): # neg-skewness\n",
    "#                 data[col] = data[col].max() - data[col] + 1\n",
    "#                 data[col] = np.sqrt(data[col])\n",
    "            \n",
    "#             else:\n",
    "#                 data[col] = np.sqrt(data[col])\n",
    "    \n",
    "    return data"
   ]
  },
  {
   "cell_type": "code",
   "execution_count": null,
   "metadata": {
    "ExecuteTime": {
     "end_time": "2020-10-03T12:15:31.075813Z",
     "start_time": "2020-10-03T12:14:29.462Z"
    }
   },
   "outputs": [],
   "source": [
    "feature_cols = [c for c in process_data(folds).columns if c not in target_cols]\n",
    "feature_cols = [c for c in feature_cols if c not in ['kfold','sig_id']]\n",
    "len(feature_cols)"
   ]
  },
  {
   "cell_type": "markdown",
   "metadata": {},
   "source": [
    "### Train"
   ]
  },
  {
   "cell_type": "code",
   "execution_count": null,
   "metadata": {
    "ExecuteTime": {
     "end_time": "2020-10-03T12:15:31.076546Z",
     "start_time": "2020-10-03T12:14:29.465Z"
    }
   },
   "outputs": [],
   "source": [
    "# HyperParameters\n",
    "\n",
    "DEVICE = ('cuda' if torch.cuda.is_available() else 'cpu')\n",
    "EPOCHS = 25\n",
    "BATCH_SIZE = 128\n",
    "LEARNING_RATE = 1e-3\n",
    "WEIGHT_DECAY = 1e-5\n",
    "NFOLDS = 5\n",
    "EARLY_STOPPING_STEPS = 10\n",
    "EARLY_STOP = False\n",
    "\n",
    "num_features=len(feature_cols)\n",
    "num_targets=len(target_cols)\n",
    "hidden_size=1024"
   ]
  },
  {
   "cell_type": "code",
   "execution_count": null,
   "metadata": {
    "ExecuteTime": {
     "end_time": "2020-10-03T12:15:31.077366Z",
     "start_time": "2020-10-03T12:14:29.467Z"
    }
   },
   "outputs": [],
   "source": [
    "def run_training(fold, seed, display=2):\n",
    "    \n",
    "    seed_everything(seed)\n",
    "    \n",
    "    train = process_data(folds)\n",
    "    test_ = process_data(test_noctl)\n",
    "    \n",
    "    trn_idx = train[train['kfold'] != fold].index\n",
    "    val_idx = train[train['kfold'] == fold].index\n",
    "    \n",
    "    train_df = train[train['kfold'] != fold].reset_index(drop=True)\n",
    "    valid_df = train[train['kfold'] == fold].reset_index(drop=True)\n",
    "    \n",
    "    x_train, y_train  = train_df[feature_cols].values, train_df[target_cols].values\n",
    "    x_valid, y_valid =  valid_df[feature_cols].values, valid_df[target_cols].values\n",
    "    \n",
    "    train_dataset = MoADataset(x_train, y_train)\n",
    "    valid_dataset = MoADataset(x_valid, y_valid)\n",
    "    trainloader = torch.utils.data.DataLoader(train_dataset, batch_size=BATCH_SIZE, shuffle=True)\n",
    "    validloader = torch.utils.data.DataLoader(valid_dataset, batch_size=BATCH_SIZE, shuffle=False)\n",
    "    \n",
    "    model = Model(\n",
    "        num_features=num_features,\n",
    "        num_targets=num_targets,\n",
    "        hidden_size=hidden_size,\n",
    "    )\n",
    "    \n",
    "    model.to(DEVICE)\n",
    "    \n",
    "    optimizer = torch.optim.Adam(model.parameters(), lr=LEARNING_RATE, weight_decay=WEIGHT_DECAY)\n",
    "    scheduler = optim.lr_scheduler.OneCycleLR(optimizer=optimizer, pct_start=0.1, div_factor=1e3, \n",
    "                                              max_lr=1e-2, epochs=EPOCHS, steps_per_epoch=len(trainloader))\n",
    "    \n",
    "    loss_fn = nn.BCEWithLogitsLoss()\n",
    "    \n",
    "    early_stopping_steps = EARLY_STOPPING_STEPS\n",
    "    early_step = 0\n",
    "    \n",
    "    oof = np.zeros((len(train), target.iloc[:, 1:].shape[1]))\n",
    "    best_loss = np.inf\n",
    "    best_epoch = 0\n",
    "    res = []\n",
    "    for epoch in range(EPOCHS):\n",
    "        \n",
    "        train_loss = train_fn(model, optimizer,scheduler, loss_fn, trainloader, DEVICE)\n",
    "                \n",
    "#         print(f\"FOLD: {fold}, EPOCH: {epoch}, train_loss: {train_loss}\")\n",
    "        valid_loss, valid_preds = valid_fn(model, loss_fn, validloader, DEVICE)\n",
    "    \n",
    "        if valid_loss < best_loss:\n",
    "            best_loss = valid_loss\n",
    "            best_epoch = epoch\n",
    "            oof[val_idx] = valid_preds\n",
    "            torch.save(model.state_dict(), output_dir / f'model_seed{seed}_fold{fold}_.pth')\n",
    "        elif(EARLY_STOP == True):\n",
    "            early_step += 1\n",
    "            if (early_step >= early_stopping_steps):\n",
    "                break\n",
    "        lr = scheduler.get_last_lr()\n",
    "        \n",
    "        # Save results\n",
    "        # ------------\n",
    "        res.append(dict({'epoch':epoch, 'lr':lr[0], 'trn_loss':train_loss, 'val_loss':valid_loss, 'best_epoch':best_epoch, 'best_loss':best_loss}))\n",
    "        \n",
    "        res_df = pd.DataFrame(res)\n",
    "        res_df.to_csv(output_dir / f'res_seed{seed}_fold{fold}_.csv')\n",
    "        \n",
    "        fig, ax = plt.subplots(nrows=1, ncols=1 )\n",
    "        min_val = res_df[['trn_loss','val_loss']].min().min()\n",
    "        ax.plot(res_df['trn_loss'])\n",
    "        ax.plot(res_df['val_loss'])\n",
    "        plt.ylim((min_val,0.020))\n",
    "        plt.title(f\"logloss in fold={fold} min={res_df['val_loss'].min()}\")\n",
    "        fig.savefig(output_dir / f'loss_seed{seed}_fold{fold}_.png')\n",
    "        plt.close(fig)\n",
    "        \n",
    "        fig, ax = plt.subplots(nrows=1, ncols=1 )\n",
    "        ax.plot(res_df['lr'])\n",
    "        plt.title(f\"lr in fold={fold}\")\n",
    "        fig.savefig(output_dir / f'lr_seed{seed}_fold{fold}_.png')\n",
    "        plt.close(fig)\n",
    "        \n",
    "        if display==2:\n",
    "            print(f\"SEED:{seed} FOLD:{fold}, EPOCH:{epoch:2d}, lr:{lr[0]:.9f} train_loss:{train_loss:.6f}, valid_loss:{valid_loss:.6f}, best_epoch:{best_epoch}, best_loss:{best_loss:.6f}\")\n",
    "\n",
    "    if display==1:\n",
    "        print(f\"SEED:{seed} FOLD:{fold}, EPOCH:{epoch:2d}, lr:{lr[0]:.9f} train_loss:{train_loss:.6f}, valid_loss:{valid_loss:.6f}, best_epoch:{best_epoch}, best_loss:{best_loss:.6f}\")\n",
    "        \n",
    "    \n",
    "    #--------------------- PREDICTION---------------------\n",
    "    x_test = test_[feature_cols].values\n",
    "    testdataset = TestDataset(x_test)\n",
    "    testloader = torch.utils.data.DataLoader(testdataset, batch_size=BATCH_SIZE, shuffle=False)\n",
    "    \n",
    "    model = Model(\n",
    "        num_features=num_features,\n",
    "        num_targets=num_targets,\n",
    "        hidden_size=hidden_size,\n",
    "    )\n",
    "    \n",
    "    model.load_state_dict(torch.load(output_dir / f'model_seed{seed}_fold{fold}_.pth'))\n",
    "    model.to(DEVICE)\n",
    "    \n",
    "    predictions = np.zeros((len(test_), target.iloc[:, 1:].shape[1]))\n",
    "    predictions = inference_fn(model, testloader, DEVICE)\n",
    "    \n",
    "    return oof, predictions\n"
   ]
  },
  {
   "cell_type": "code",
   "execution_count": null,
   "metadata": {
    "ExecuteTime": {
     "end_time": "2020-10-03T12:15:31.078049Z",
     "start_time": "2020-10-03T12:14:29.470Z"
    }
   },
   "outputs": [],
   "source": [
    "def run_k_fold(NFOLDS, seed, display=2):\n",
    "    oof = np.zeros((len(folds), len(target_cols)))\n",
    "    predictions = np.zeros((len(test_noctl), len(target_cols)))\n",
    "    \n",
    "    for fold in range(NFOLDS):\n",
    "        oof_, pred_ = run_training(fold, seed, display)\n",
    "        \n",
    "        predictions += pred_ / NFOLDS\n",
    "        oof += oof_\n",
    "        \n",
    "    return oof, predictions"
   ]
  },
  {
   "cell_type": "code",
   "execution_count": null,
   "metadata": {
    "ExecuteTime": {
     "end_time": "2020-10-03T12:15:31.078845Z",
     "start_time": "2020-10-03T12:14:29.472Z"
    }
   },
   "outputs": [],
   "source": [
    "# Averaging on multiple SEEDS\n",
    "SEED = [0, 1, 2, 3 ,4, 5]\n",
    "oof = np.zeros((len(folds), len(target_cols)))\n",
    "predictions = np.zeros((len(test_noctl), len(target_cols)))\n",
    "\n",
    "for seed in SEED:\n",
    "    oof_, predictions_ = run_k_fold(NFOLDS, seed, display=1)\n",
    "    oof += oof_ / len(SEED)\n",
    "    predictions += predictions_ / len(SEED)\n",
    "    \n",
    "# FINAL CV LOGLOSS\n",
    "folds[target_cols] = oof\n",
    "for col in target_cols:\n",
    "    test_noctl[col] = 0.0\n",
    "test_noctl[target_cols] = predictions\n",
    "\n",
    "valid_results = train_targets_scored.drop(columns=target_cols).merge(folds[['sig_id']+target_cols], on='sig_id', how='left').fillna(0)\n",
    "y_true = train_targets_scored[target_cols].values\n",
    "y_pred = valid_results[target_cols].values\n",
    "\n",
    "score = 0\n",
    "for i in range(len(target_cols)):\n",
    "    score_ = log_loss(y_true[:, i], y_pred[:, i])\n",
    "    score += score_ / target.shape[1]\n",
    "print(f\"FINAL CV logloss: {score:.6f}\")"
   ]
  },
  {
   "cell_type": "code",
   "execution_count": null,
   "metadata": {
    "ExecuteTime": {
     "end_time": "2020-10-03T12:15:31.079533Z",
     "start_time": "2020-10-03T12:14:29.474Z"
    }
   },
   "outputs": [],
   "source": [
    "# my_submission = pd.read_csv('../input/firstpison26sep/submission0.014740.csv') #LB=0.01875 PCA + removing low std\n",
    "#my_submission = pd.read_csv('../input/pison26sepv2/submission0.014731.csv') #LB=0.01874 PCA\n",
    "print(f\"FINAL CV logloss: {score:.6f}\")"
   ]
  },
  {
   "cell_type": "markdown",
   "metadata": {},
   "source": [
    "### Create Submission"
   ]
  },
  {
   "cell_type": "code",
   "execution_count": null,
   "metadata": {
    "ExecuteTime": {
     "end_time": "2020-10-03T12:15:31.080225Z",
     "start_time": "2020-10-03T12:14:29.477Z"
    }
   },
   "outputs": [],
   "source": [
    "submission = sample_submission.drop(columns=target_cols)\\\n",
    ".merge(test_noctl[['sig_id']+target_cols], on='sig_id', how='left')\\\n",
    ".fillna(0.0).reset_index(drop=True)\n",
    "# sub.to_csv('submission.csv', index=False)\n",
    "name_sub = output_dir / f'submission{score:.6f}.csv'\n",
    "submission.to_csv(name_sub, index=False)\n",
    "print(name_sub)"
   ]
  },
  {
   "cell_type": "code",
   "execution_count": null,
   "metadata": {
    "ExecuteTime": {
     "end_time": "2020-10-03T12:15:31.081049Z",
     "start_time": "2020-10-03T12:14:29.480Z"
    }
   },
   "outputs": [],
   "source": [
    "submission.head()"
   ]
  }
 ],
 "metadata": {
  "kernelspec": {
   "display_name": "Python 3",
   "language": "python",
   "name": "python3"
  },
  "language_info": {
   "codemirror_mode": {
    "name": "ipython",
    "version": 3
   },
   "file_extension": ".py",
   "mimetype": "text/x-python",
   "name": "python",
   "nbconvert_exporter": "python",
   "pygments_lexer": "ipython3",
   "version": "3.8.3"
  },
  "toc": {
   "base_numbering": 1,
   "nav_menu": {},
   "number_sections": true,
   "sideBar": true,
   "skip_h1_title": false,
   "title_cell": "Table of Contents",
   "title_sidebar": "Contents",
   "toc_cell": false,
   "toc_position": {},
   "toc_section_display": true,
   "toc_window_display": false
  }
 },
 "nbformat": 4,
 "nbformat_minor": 4
}
